{
 "cells": [
  {
   "cell_type": "code",
   "execution_count": null,
   "metadata": {},
   "outputs": [],
   "source": [
    "import numpy as np\n",
    "import random"
   ]
  },
  {
   "cell_type": "code",
   "execution_count": null,
   "metadata": {},
   "outputs": [],
   "source": [
    "import numpy as np\n",
    "\n",
    "def split_logic_matrix(logic_equation, matrix, var_index):\n",
    "    # Initialize the new equations and matrices\n",
    "    S0_equation = []\n",
    "    S1_equation = []\n",
    "    S0_rows = []\n",
    "    S1_rows = []\n",
    "\n",
    "    for minterms, pattern in logic_equation:\n",
    "        if pattern[var_index] == '0':\n",
    "            S0_equation.append((minterms, pattern))\n",
    "            S0_rows.extend([m - 1 for m in minterms])  # Adjusting indices for 0-based indexing\n",
    "        elif pattern[var_index] == '1':\n",
    "            S1_equation.append((minterms, pattern))\n",
    "            S1_rows.extend([m - 1 for m in minterms])  # Adjusting indices for 0-based indexing\n",
    "\n",
    "    # Convert to unique numpy arrays\n",
    "    S0_rows = np.unique(S0_rows)\n",
    "    S1_rows = np.unique(S1_rows)\n",
    "\n",
    "    # Filter out-of-bound indices\n",
    "    S0_rows = S0_rows[S0_rows < matrix.shape[0]]\n",
    "    S1_rows = S1_rows[S1_rows < matrix.shape[0]]\n",
    "\n",
    "    # Generate matrices\n",
    "    S0_matrix = matrix[S0_rows] if S0_rows.size > 0 else np.array([], dtype=matrix.dtype)\n",
    "    S1_matrix = matrix[S1_rows] if S1_rows.size > 0 else np.array([], dtype=matrix.dtype)\n",
    "\n",
    "    return S0_equation, S0_matrix, S1_equation, S1_matrix\n",
    "\n",
    "# Example usage\n",
    "matrix = np.array([\n",
    "    [0, 1, 0, 0, 0, 0],\n",
    "    [0, 0, 0, 1, 0, 0],\n",
    "    [0, 1, 0, 1, 0, 1],\n",
    "    [1, 1, 0, 0, 0, 0],\n",
    "    [1, 1, 0, 0, 1, 1],\n",
    "    [0, 0, 1, 1, 0, 0],\n",
    "    [0, 0, 1, 1, 1, 1]\n",
    "])\n",
    "next_equation = [\n",
    "    ((1, 3, 5, 7), '00--1'),\n",
    "    ((4, 5, 6, 7, 12, 13, 14, 15), '0-1--'),\n",
    "    ((4, 5, 6, 7, 20, 21, 22, 23), '-01--')\n",
    "]\n",
    "chosen_var_index = 2  # Let's say we are choosing the third variable ('c')\n",
    "\n",
    "S0_eq, S0_mat, S1_eq, S1_mat = split_logic_matrix(next_equation, matrix, chosen_var_index)\n",
    "print(\"S0 Equation:\", S0_eq)\n",
    "print(\"S0 Matrix:\\n\", S0_mat)\n",
    "print(\"S1 Equation:\", S1_eq)\n",
    "print(\"S1 Matrix:\\n\", S1_mat)"
   ]
  },
  {
   "cell_type": "code",
   "execution_count": null,
   "metadata": {},
   "outputs": [],
   "source": [
    "def row_dominance(matrix, row_indices):\n",
    "    pass"
   ]
  },
  {
   "cell_type": "code",
   "execution_count": null,
   "metadata": {},
   "outputs": [],
   "source": [
    "def col_dominance(matrix, col_inidices):\n",
    "    pass"
   ]
  },
  {
   "cell_type": "code",
   "execution_count": null,
   "metadata": {},
   "outputs": [],
   "source": [
    "test = [(1,'b'),(6,'c')]\n",
    "test_set = {(4,'b'), (2,'n')}\n",
    "test.extend(test_set)"
   ]
  },
  {
   "cell_type": "code",
   "execution_count": null,
   "metadata": {},
   "outputs": [],
   "source": [
    "test"
   ]
  },
  {
   "cell_type": "code",
   "execution_count": null,
   "metadata": {},
   "outputs": [],
   "source": [
    "def MiS_quick1(matrix:np.array):\n",
    "    MiS = set()\n",
    "    matrix = matrix.copy()\n",
    "    col_axis = np.arange(matrix.shape[1])\n",
    "    while matrix.size > 0 and matrix.shape[1] > 0:\n",
    "        print(matrix)\n",
    "        column_sums = np.sum(matrix, axis = 0)\n",
    "        min_sum = min(column_sums)\n",
    "        min_column_indicies = np.where(column_sums == min_sum)[0]\n",
    "        \n",
    "        best_columns = []\n",
    "        for col_idx in min_column_indicies:\n",
    "            delete_cols = {col_idx}\n",
    "            row_indicies = np.where(matrix[:, col_idx] == 1)[0]\n",
    "            for row_idx in row_indicies:\n",
    "                row = matrix[row_idx, :]\n",
    "                col_indicies = np.where(row == 1)[0]\n",
    "                delete_cols.update(set(col_indicies))\n",
    "            cols_to_delete = list(delete_cols)\n",
    "            col_score = np.sum(matrix[:, cols_to_delete])\n",
    "            best_columns.append((col_idx, cols_to_delete, col_score))\n",
    "\n",
    "        selected_column = min(best_columns, key=lambda x: x[2])\n",
    "        selected_column_idx, selected_column_to_delete, _  = selected_column\n",
    "        # print(\"selected column \", col_axis[selected_column_idx])\n",
    "        MiS.add(col_axis[selected_column_idx])\n",
    "        # print(\"cols to delete: \", [col_axis[idx] for idx in selected_column_to_delete])\n",
    "        matrix = np.delete(matrix, selected_column_to_delete, axis = 1)\n",
    "        col_axis = np.delete(col_axis, selected_column_to_delete)\n",
    "    return MiS"
   ]
  },
  {
   "cell_type": "code",
   "execution_count": null,
   "metadata": {},
   "outputs": [],
   "source": [
    "def MiS_quick(matrix:np.array):\n",
    "    MiS = set()\n",
    "    matrix = matrix.copy()\n",
    "    row_axis = np.arange(matrix.shape[0])\n",
    "    while matrix.size > 0 and matrix.shape[1] > 0:\n",
    "        print(matrix)\n",
    "        row_sums = np.sum(matrix, axis = 1)\n",
    "        min_sum = min(row_sums)\n",
    "        min_row_indicies = np.where(row_sums == min_sum)[0]\n",
    "        \n",
    "        best_rows = []\n",
    "        for row_idx in min_row_indicies:\n",
    "            delete_rows = {row_idx}\n",
    "            col_indicies = np.where(matrix[row_idx, :] == 1)[0]\n",
    "            for col_idx in col_indicies:\n",
    "                row = matrix[:, col_idx]\n",
    "                row_indicies = np.where(row == 1)[0]\n",
    "                delete_rows.update(set(row_indicies))\n",
    "            row_to_delete = list(delete_rows)\n",
    "            row_score = np.sum(matrix[row_to_delete, :])\n",
    "            best_rows.append((row_idx, row_to_delete, row_score))\n",
    "\n",
    "        selected_row = min(best_rows, key=lambda x: x[2])\n",
    "        selected_row_idx, selected_row_to_delete, _  = selected_row\n",
    "        # print(\"selected column \", row_axis[selected_row_idx])\n",
    "        MiS.add(row_axis[selected_row_idx])\n",
    "        # print(\"cols to delete: \", [row_axis[idx] for idx in selected_row_to_delete])\n",
    "        matrix = np.delete(matrix, selected_row_to_delete, axis = 0)\n",
    "        row_axis = np.delete(row_axis, selected_row_to_delete)\n",
    "    return MiS"
   ]
  },
  {
   "cell_type": "code",
   "execution_count": null,
   "metadata": {},
   "outputs": [],
   "source": [
    "import numpy as np\n",
    "test = np.array([[1],[1]])\n",
    "print(test[0, :])"
   ]
  },
  {
   "cell_type": "code",
   "execution_count": null,
   "metadata": {},
   "outputs": [],
   "source": [
    "def choose_var(matrix):\n",
    "    row_zi = []\n",
    "    for row_idx in range(matrix.shape[0]):\n",
    "        row = matrix[row_idx, :]\n",
    "        zi = 1 / (np.sum(row) - 1)\n",
    "        row_zi.append(zi)\n",
    "    col_weights = []\n",
    "    for col_idx in range(matrix.shape[1]):\n",
    "        col = matrix[:, col_idx]\n",
    "        col_ones = np.where(col == 1)[0]\n",
    "        weight_sum = np.sum([row_zi[ones_idx] for ones_idx in col_ones])\n",
    "        col_weights.append(weight_sum)\n",
    "    max_weight = max(col_weights)\n",
    "    selected_columns = [col_idx for col_idx, weight in enumerate(col_weights) if weight == max_weight]\n",
    "    print(\"Possible Selections: \", selected_columns)\n",
    "    return random.choice(selected_columns)"
   ]
  },
  {
   "cell_type": "code",
   "execution_count": null,
   "metadata": {},
   "outputs": [],
   "source": [
    "def choose_var(self, matrix:np.array):\n",
    "    col_zi = []\n",
    "    for col_idx in range(matrix.shape[1]):\n",
    "        col = matrix[col_idx, :]\n",
    "        zi = 1 / (np.sum(col) - 1)\n",
    "        col_zi.append(zi)\n",
    "\n",
    "    row_weights = []\n",
    "    for row_idx in range(matrix.shape[0]):\n",
    "        row = matrix[:, row_idx]\n",
    "        row_ones = np.where(row == 1)[1]\n",
    "        weight = np.sum([col_zi[ones_idx] for ones_idx in row_ones])\n",
    "        row_weights.append(weight)\n",
    "    max_weight = max(row_weights)\n",
    "    print(max_weight)\n",
    "    selected_columns = [col_idx for col_idx, weight in enumerate(row_weights) if weight == max_weight]\n",
    "    print(selected_columns)\n",
    "    return random.choice(selected_columns)"
   ]
  },
  {
   "cell_type": "code",
   "execution_count": null,
   "metadata": {},
   "outputs": [],
   "source": [
    "matrix = np.array([\n",
    "        [1,1,0,0, 0,0,0,0,0,0,0],\n",
    "        [0,1,1,0, 0,0,0,0,0,0,0],\n",
    "        [0,0,1,1, 0,0,0,0,0,0,0],\n",
    "        [1,0,0,1, 0,0,0,0,0,0,0],\n",
    "\n",
    "        [0,0,0,0, 1,1,0,0,0,1,0],\n",
    "        [0,0,0,0, 0,1,1,0,1,0,0],\n",
    "        [0,0,0,0, 0,0,1,1,0,0,0],\n",
    "        [0,0,0,0, 0,1,0,1,0,1,1],\n",
    "        [0,0,0,0, 1,0,0,0,1,1,1],\n",
    "        [0,0,0,0, 1,0,0,1,1,0,0],\n",
    "        [0,0,0,0, 1,0,1,0,0,0,1],\n",
    "\n",
    "        [1,0,0,0, 0,0,0,0,0,0,1],\n",
    "        [0,0,0,0, 1,1,0,1,0,0,0]\n",
    "        ]\n",
    "        )\n",
    "MiS = MiS_quick(matrix)\n",
    "print(MiS)\n",
    "rand_choice = choose_var(matrix)\n",
    "print(rand_choice)"
   ]
  },
  {
   "cell_type": "code",
   "execution_count": null,
   "metadata": {},
   "outputs": [],
   "source": [
    "matrix.T"
   ]
  },
  {
   "cell_type": "code",
   "execution_count": null,
   "metadata": {},
   "outputs": [],
   "source": []
  },
  {
   "cell_type": "code",
   "execution_count": null,
   "metadata": {},
   "outputs": [],
   "source": [
    "matrix = np.array(\n",
    "        [\n",
    "        [1,0,1,0,1,0],\n",
    "        [1,0,0,1,0,1],\n",
    "        [0,1,1,0,0,1],\n",
    "        [0,1,0,1,1,0]\n",
    "        ]\n",
    "        )\n",
    "MiS = MiS_quick1(matrix)\n",
    "print(f\"MiS: {MiS}\")\n",
    "rand_var = choose_var(matrix)\n",
    "print(f\"chosen var: {rand_var}\")"
   ]
  },
  {
   "cell_type": "code",
   "execution_count": null,
   "metadata": {},
   "outputs": [],
   "source": [
    "test = np.array(\n",
    "        [\n",
    "        [1,0,0,0,0,1],\n",
    "        [1,1,0,0,0,0],\n",
    "        [0,1,1,0,0,0],\n",
    "        [0,0,1,1,0,0],\n",
    "        [0,0,0,1,1,0],\n",
    "        [0,0,0,0,1,1],\n",
    "        ]\n",
    "        )\n",
    "MiS = MiS_quick1(test)\n",
    "print(\"MiS: \", MiS, len(MiS))\n",
    "rand_var = choose_var(test)\n",
    "print(\"chosen var: \", rand_var)"
   ]
  },
  {
   "cell_type": "code",
   "execution_count": null,
   "metadata": {},
   "outputs": [],
   "source": [
    "integers = [0, 1, 2, 3, 6, 7, 8, 9, 14, 15]\n",
    "max_int = max(integers)\n",
    "print(max_int)\n",
    "max_bit = format(max_int, 'b')\n",
    "print(max_bit)\n",
    "print(len(max_bit))\n",
    "bit_format = str(len(max_bit))+'b'\n",
    "print(bit_format)"
   ]
  },
  {
   "cell_type": "code",
   "execution_count": null,
   "metadata": {},
   "outputs": [],
   "source": [
    "test = (1,2,3,4,5)\n",
    "print(test)"
   ]
  },
  {
   "cell_type": "code",
   "execution_count": null,
   "metadata": {},
   "outputs": [],
   "source": [
    "tuple(i for i in integers)\n"
   ]
  },
  {
   "cell_type": "code",
   "execution_count": null,
   "metadata": {},
   "outputs": [],
   "source": [
    "minterm_matrix = np.zeros((len(max_bit), len(integers)), dtype='int')\n",
    "print(minterm_matrix)"
   ]
  },
  {
   "cell_type": "code",
   "execution_count": null,
   "metadata": {},
   "outputs": [],
   "source": []
  },
  {
   "cell_type": "code",
   "execution_count": null,
   "metadata": {},
   "outputs": [],
   "source": [
    "matrix = np.array([\n",
    "    [1, 1, 0, 1, 0, 1, 0, 0, 0, 0, 0, 0, 0, 0, 0, 0, 0, 0, 0, 0],\n",
    "    [0, 1, 0, 0, 0, 1, 0, 1, 0, 0, 0, 1, 0, 0, 0, 0, 0, 0, 0, 0],\n",
    "    [0, 1, 0, 0, 0, 1, 0, 0, 0, 0, 0, 0, 0, 1, 0, 0, 0, 1, 0, 0],\n",
    "    [0, 1, 0, 0, 0, 0, 0, 1, 0, 0, 0, 0, 0, 1, 0, 0, 0, 0, 0, 1],\n",
    "    [0, 0, 0, 0, 0, 0, 1, 1, 0, 0, 1, 1, 0, 0, 0, 0, 0, 0, 0, 0],\n",
    "    [0, 0, 0, 0, 0, 0, 1, 1, 0, 0, 0, 0, 0, 0, 0, 0, 0, 0, 1, 1],\n",
    "    [0, 0, 0, 0, 0, 0, 0, 0, 0, 0, 0, 0, 1, 1, 0, 0, 1, 1, 0, 0],\n",
    "    [0, 0, 0, 0, 0, 0, 0, 0, 0, 0, 0, 0, 1, 1, 0, 0, 0, 0, 1, 1],\n",
    "    [0, 0, 1, 1, 1, 1, 0, 0, 1, 1, 1, 1, 0, 0, 0, 0, 0, 0, 0, 0],\n",
    "    [0, 0, 1, 1, 1, 1, 0, 0, 0, 0, 0, 0, 0, 0, 1, 1, 1, 1, 0, 0]\n",
    "])\n"
   ]
  },
  {
   "cell_type": "code",
   "execution_count": null,
   "metadata": {},
   "outputs": [],
   "source": [
    "matrix = np.array([\n",
    "    [1, 1, 0, 1, 0, 1, 0, 0, 0, 0, 0, 0, 0, 0, 0, 0, 0, 0, 0, 0],\n",
    "    [0, 1, 0, 0, 0, 1, 0, 1, 0, 0, 0, 1, 0, 0, 0, 0, 0, 0, 0, 0],\n",
    "    [0, 1, 0, 0, 0, 1, 0, 0, 0, 0, 0, 0, 0, 1, 0, 0, 0, 1, 0, 0],\n",
    "    [0, 1, 0, 0, 0, 0, 0, 1, 0, 0, 0, 0, 0, 1, 0, 0, 0, 0, 0, 1],\n",
    "    [0, 0, 0, 0, 0, 0, 1, 1, 0, 0, 1, 1, 0, 0, 0, 0, 0, 0, 0, 0],\n",
    "    [0, 0, 0, 0, 0, 0, 1, 1, 0, 0, 0, 0, 0, 0, 0, 0, 0, 0, 1, 1],\n",
    "    [0, 0, 0, 0, 0, 0, 0, 0, 0, 0, 0, 0, 1, 1, 0, 0, 1, 1, 0, 0],\n",
    "    [0, 0, 0, 0, 0, 0, 0, 0, 0, 0, 0, 0, 1, 1, 0, 0, 0, 0, 1, 1],\n",
    "    [0, 0, 1, 1, 1, 1, 0, 0, 1, 1, 1, 1, 0, 0, 0, 0, 0, 0, 0, 0],\n",
    "    [0, 0, 1, 1, 1, 1, 0, 0, 0, 0, 0, 0, 0, 0, 1, 1, 1, 1, 0, 0]\n",
    "])\n"
   ]
  },
  {
   "cell_type": "code",
   "execution_count": null,
   "metadata": {},
   "outputs": [],
   "source": [
    "m1 = matrix[:, 0]\n",
    "print(m1)\n",
    "m2 = matrix[:, 1]\n",
    "print(m2)"
   ]
  },
  {
   "cell_type": "code",
   "execution_count": null,
   "metadata": {},
   "outputs": [],
   "source": [
    "m1 | m2"
   ]
  },
  {
   "cell_type": "code",
   "execution_count": null,
   "metadata": {},
   "outputs": [],
   "source": [
    "next_matrix = np.delete(matrix, {5}, axis=0)\n",
    "print(next_matrix)\n",
    "next_matrix.shape"
   ]
  },
  {
   "cell_type": "code",
   "execution_count": null,
   "metadata": {},
   "outputs": [],
   "source": [
    "minterm_matrix[:, 0]"
   ]
  },
  {
   "cell_type": "code",
   "execution_count": null,
   "metadata": {},
   "outputs": [],
   "source": [
    "for idx, integer in enumerate(integers):\n",
    "    minterm = format(integer, bit_format).replace(' ', '0')\n",
    "    minterm_array = np.array([int(char) for char in minterm])\n",
    "    minterm_matrix[:, idx] = minterm_array\n",
    "print(minterm_matrix)"
   ]
  },
  {
   "cell_type": "code",
   "execution_count": null,
   "metadata": {},
   "outputs": [],
   "source": []
  },
  {
   "cell_type": "code",
   "execution_count": null,
   "metadata": {},
   "outputs": [],
   "source": [
    "minterm_matrix[:,1]"
   ]
  },
  {
   "cell_type": "code",
   "execution_count": null,
   "metadata": {},
   "outputs": [],
   "source": [
    "col4  = minterm_matrix[:, 4]\n",
    "print(col4)\n",
    "indicies = np.where(col4 == 1)[0]\n",
    "print(set(indicies))"
   ]
  }
 ],
 "metadata": {
  "kernelspec": {
   "display_name": "yolov5",
   "language": "python",
   "name": "python3"
  },
  "language_info": {
   "codemirror_mode": {
    "name": "ipython",
    "version": 3
   },
   "file_extension": ".py",
   "mimetype": "text/x-python",
   "name": "python",
   "nbconvert_exporter": "python",
   "pygments_lexer": "ipython3",
   "version": "3.9.18"
  }
 },
 "nbformat": 4,
 "nbformat_minor": 2
}
