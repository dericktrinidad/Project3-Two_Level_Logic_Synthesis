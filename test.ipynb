{
 "cells": [
  {
   "cell_type": "code",
   "execution_count": 1,
   "metadata": {},
   "outputs": [],
   "source": [
    "import numpy as np"
   ]
  },
  {
   "cell_type": "code",
   "execution_count": 7,
   "metadata": {},
   "outputs": [
    {
     "name": "stdout",
     "output_type": "stream",
     "text": [
      "S0 Equation: []\n",
      "S0 Matrix:\n",
      " []\n",
      "S1 Equation: [((4, 5, 6, 7, 12, 13, 14, 15), '0-1--'), ((4, 5, 6, 7, 20, 21, 22, 23), '-01--')]\n",
      "S1 Matrix:\n",
      " [[1 1 0 0 0 0]\n",
      " [1 1 0 0 1 1]\n",
      " [0 0 1 1 0 0]\n",
      " [0 0 1 1 1 1]]\n"
     ]
    }
   ],
   "source": [
    "import numpy as np\n",
    "\n",
    "def split_logic_matrix(logic_equation, matrix, var_index):\n",
    "    # Initialize the new equations and matrices\n",
    "    S0_equation = []\n",
    "    S1_equation = []\n",
    "    S0_rows = []\n",
    "    S1_rows = []\n",
    "\n",
    "    for minterms, pattern in logic_equation:\n",
    "        if pattern[var_index] == '0':\n",
    "            S0_equation.append((minterms, pattern))\n",
    "            S0_rows.extend([m - 1 for m in minterms])  # Adjusting indices for 0-based indexing\n",
    "        elif pattern[var_index] == '1':\n",
    "            S1_equation.append((minterms, pattern))\n",
    "            S1_rows.extend([m - 1 for m in minterms])  # Adjusting indices for 0-based indexing\n",
    "\n",
    "    # Convert to unique numpy arrays\n",
    "    S0_rows = np.unique(S0_rows)\n",
    "    S1_rows = np.unique(S1_rows)\n",
    "\n",
    "    # Filter out-of-bound indices\n",
    "    S0_rows = S0_rows[S0_rows < matrix.shape[0]]\n",
    "    S1_rows = S1_rows[S1_rows < matrix.shape[0]]\n",
    "\n",
    "    # Generate matrices\n",
    "    S0_matrix = matrix[S0_rows] if S0_rows.size > 0 else np.array([], dtype=matrix.dtype)\n",
    "    S1_matrix = matrix[S1_rows] if S1_rows.size > 0 else np.array([], dtype=matrix.dtype)\n",
    "\n",
    "    return S0_equation, S0_matrix, S1_equation, S1_matrix\n",
    "\n",
    "# Example usage\n",
    "matrix = np.array([\n",
    "    [0, 1, 0, 0, 0, 0],\n",
    "    [0, 0, 0, 1, 0, 0],\n",
    "    [0, 1, 0, 1, 0, 1],\n",
    "    [1, 1, 0, 0, 0, 0],\n",
    "    [1, 1, 0, 0, 1, 1],\n",
    "    [0, 0, 1, 1, 0, 0],\n",
    "    [0, 0, 1, 1, 1, 1]\n",
    "])\n",
    "next_equation = [\n",
    "    ((1, 3, 5, 7), '00--1'),\n",
    "    ((4, 5, 6, 7, 12, 13, 14, 15), '0-1--'),\n",
    "    ((4, 5, 6, 7, 20, 21, 22, 23), '-01--')\n",
    "]\n",
    "chosen_var_index = 2  # Let's say we are choosing the third variable ('c')\n",
    "\n",
    "S0_eq, S0_mat, S1_eq, S1_mat = split_logic_matrix(next_equation, matrix, chosen_var_index)\n",
    "print(\"S0 Equation:\", S0_eq)\n",
    "print(\"S0 Matrix:\\n\", S0_mat)\n",
    "print(\"S1 Equation:\", S1_eq)\n",
    "print(\"S1 Matrix:\\n\", S1_mat)"
   ]
  },
  {
   "cell_type": "code",
   "execution_count": null,
   "metadata": {},
   "outputs": [],
   "source": [
    "def row_dominance(matrix, row_indices):\n",
    "    pass"
   ]
  },
  {
   "cell_type": "code",
   "execution_count": null,
   "metadata": {},
   "outputs": [],
   "source": [
    "def col_dominance(matrix, col_inidices):\n",
    "    pass"
   ]
  },
  {
   "cell_type": "code",
   "execution_count": 19,
   "metadata": {},
   "outputs": [],
   "source": [
    "def MiS_quick(matrix:np.array):\n",
    "    MiS = set()\n",
    "    matrix = matrix.copy()\n",
    "    col_axis = np.arange(matrix.shape[1])\n",
    "    while matrix.size > 0 and matrix.shape[1] > 0:\n",
    "        print(matrix)\n",
    "        column_sums = np.sum(matrix, axis = 0)\n",
    "        min_sum = min(column_sums)\n",
    "        min_column_indicies = np.where(column_sums == min_sum)[0]\n",
    "        \n",
    "        best_columns = []\n",
    "        for col_idx in min_column_indicies:\n",
    "            delete_cols = {col_idx}\n",
    "            row_indicies = np.where(matrix[: , col_idx] == 1)[0]\n",
    "            for row_idx in row_indicies:\n",
    "                row = matrix[row_idx, :]\n",
    "                col_indicies = np.where(row == 1)[0]\n",
    "                delete_cols.update(set(col_indicies))\n",
    "            cols_to_delete = list(delete_cols)\n",
    "            col_score = np.sum(matrix[:, cols_to_delete])\n",
    "            best_columns.append((col_idx, cols_to_delete, col_score))\n",
    "\n",
    "        selected_column = min(best_columns, key=lambda x: x[2])\n",
    "        selected_column_idx, selected_column_to_delete,_  = selected_column\n",
    "        MiS.add(col_axis[selected_column_idx])\n",
    "        matrix = np.delete(matrix, selected_column_to_delete, axis = 1)\n",
    "        col_axis = np.delete(col_axis, selected_column_to_delete)\n",
    "    return MiS"
   ]
  },
  {
   "cell_type": "code",
   "execution_count": 20,
   "metadata": {},
   "outputs": [
    {
     "name": "stdout",
     "output_type": "stream",
     "text": [
      "[[1 1 0 0 0 0 1]\n",
      " [0 1 1 0 0 1 0]\n",
      " [0 0 1 0 1 0 1]\n",
      " [0 1 0 1 1 0 0]\n",
      " [1 0 0 1 0 0 0]\n",
      " [0 0 0 1 0 1 0]]\n",
      "[[0 0 0]\n",
      " [1 0 1]\n",
      " [1 1 0]\n",
      " [0 1 0]\n",
      " [0 0 0]\n",
      " [0 0 1]]\n",
      "[[0]\n",
      " [1]\n",
      " [0]\n",
      " [0]\n",
      " [0]\n",
      " [1]]\n",
      "{0, 4, 5}\n"
     ]
    }
   ],
   "source": [
    "matrix = np.array([\n",
    "    [1,1,0,0,0,0,1],\n",
    "    [0,1,1,0,0,1,0],\n",
    "    [0,0,1,0,1,0,1],\n",
    "    [0,1,0,1,1,0,0],\n",
    "    [1,0,0,1,0,0,0],\n",
    "    [0,0,0,1,0,1,0]],\n",
    ")\n",
    "res = MiS_quick(matrix)\n",
    "print(res)"
   ]
  },
  {
   "cell_type": "code",
   "execution_count": null,
   "metadata": {},
   "outputs": [],
   "source": []
  },
  {
   "cell_type": "code",
   "execution_count": 20,
   "metadata": {},
   "outputs": [
    {
     "name": "stdout",
     "output_type": "stream",
     "text": [
      "[[1 0 0 0 1 0]\n",
      " [1 1 0 1 0 0]\n",
      " [0 1 1 0 0 0]\n",
      " [0 0 0 1 1 1]\n",
      " [0 0 1 1 0 0]\n",
      " [0 1 0 0 0 1]\n",
      " [1 0 1 0 0 0]]\n",
      "{4, 5}\n",
      "set()\n"
     ]
    }
   ],
   "source": [
    "test = np.array(\n",
    "        [\n",
    "        ,\n",
    "        [1,1,0,1,0,0],\n",
    "        [0,1,1,0,0,0],\n",
    "        [0,0,0,1,1,1],\n",
    "        [0,0,1,1,0,0],\n",
    "        [0,1,0,0,0,1],\n",
    "        [1,0,1,0,0,0]\n",
    "        ]\n",
    "        )\n",
    "res = MiS_quick(test)\n",
    "print(res)"
   ]
  },
  {
   "cell_type": "code",
   "execution_count": 19,
   "metadata": {},
   "outputs": [
    {
     "name": "stdout",
     "output_type": "stream",
     "text": [
      "[[1 0 1 0 1 0]\n",
      " [1 0 0 1 0 1]\n",
      " [0 1 1 0 0 1]\n",
      " [0 1 0 1 1 0]]\n",
      "{0, 1, 2, 3, 4, 5}\n",
      "set()\n"
     ]
    }
   ],
   "source": [
    "test = np.array(\n",
    "        [\n",
    "        [1,0,1,0,1,0],\n",
    "        [1,0,0,1,0,1],\n",
    "        [0,1,1,0,0,1],\n",
    "        [0,1,0,1,1,0]\n",
    "        ]\n",
    "        )\n",
    "res = MiS_quick(test)\n",
    "print(res)"
   ]
  },
  {
   "cell_type": "code",
   "execution_count": 6,
   "metadata": {},
   "outputs": [
    {
     "data": {
      "text/plain": [
       "6"
      ]
     },
     "execution_count": 6,
     "metadata": {},
     "output_type": "execute_result"
    }
   ],
   "source": [
    "test.shape[1]"
   ]
  },
  {
   "cell_type": "code",
   "execution_count": 4,
   "metadata": {},
   "outputs": [
    {
     "name": "stdout",
     "output_type": "stream",
     "text": [
      "15\n",
      "1111\n",
      "4\n",
      "4b\n"
     ]
    }
   ],
   "source": [
    "integers = [0, 1, 2, 3, 6, 7, 8, 9, 14, 15]\n",
    "max_int = max(integers)\n",
    "print(max_int)\n",
    "max_bit = format(max_int, 'b')\n",
    "print(max_bit)\n",
    "print(len(max_bit))\n",
    "bit_format = str(len(max_bit))+'b'\n",
    "print(bit_format)"
   ]
  },
  {
   "cell_type": "code",
   "execution_count": 3,
   "metadata": {},
   "outputs": [
    {
     "name": "stdout",
     "output_type": "stream",
     "text": [
      "(1, 2, 3, 4, 5)\n"
     ]
    }
   ],
   "source": [
    "test = (1,2,3,4,5)\n",
    "print(test)"
   ]
  },
  {
   "cell_type": "code",
   "execution_count": 5,
   "metadata": {},
   "outputs": [
    {
     "data": {
      "text/plain": [
       "(0, 1, 2, 3, 6, 7, 8, 9, 14, 15)"
      ]
     },
     "execution_count": 5,
     "metadata": {},
     "output_type": "execute_result"
    }
   ],
   "source": [
    "tuple(i for i in integers)\n"
   ]
  },
  {
   "cell_type": "code",
   "execution_count": 8,
   "metadata": {},
   "outputs": [
    {
     "name": "stdout",
     "output_type": "stream",
     "text": [
      "[[0 0 0 0 0 0 0 0 0 0]\n",
      " [0 0 0 0 0 0 0 0 0 0]\n",
      " [0 0 0 0 0 0 0 0 0 0]\n",
      " [0 0 0 0 0 0 0 0 0 0]]\n"
     ]
    }
   ],
   "source": [
    "minterm_matrix = np.zeros((len(max_bit), len(integers)), dtype='int')\n",
    "print(minterm_matrix)"
   ]
  },
  {
   "cell_type": "code",
   "execution_count": null,
   "metadata": {},
   "outputs": [],
   "source": []
  },
  {
   "cell_type": "code",
   "execution_count": null,
   "metadata": {},
   "outputs": [],
   "source": [
    "matrix = np.array([\n",
    "    [1, 1, 0, 1, 0, 1, 0, 0, 0, 0, 0, 0, 0, 0, 0, 0, 0, 0, 0, 0],\n",
    "    [0, 1, 0, 0, 0, 1, 0, 1, 0, 0, 0, 1, 0, 0, 0, 0, 0, 0, 0, 0],\n",
    "    [0, 1, 0, 0, 0, 1, 0, 0, 0, 0, 0, 0, 0, 1, 0, 0, 0, 1, 0, 0],\n",
    "    [0, 1, 0, 0, 0, 0, 0, 1, 0, 0, 0, 0, 0, 1, 0, 0, 0, 0, 0, 1],\n",
    "    [0, 0, 0, 0, 0, 0, 1, 1, 0, 0, 1, 1, 0, 0, 0, 0, 0, 0, 0, 0],\n",
    "    [0, 0, 0, 0, 0, 0, 1, 1, 0, 0, 0, 0, 0, 0, 0, 0, 0, 0, 1, 1],\n",
    "    [0, 0, 0, 0, 0, 0, 0, 0, 0, 0, 0, 0, 1, 1, 0, 0, 1, 1, 0, 0],\n",
    "    [0, 0, 0, 0, 0, 0, 0, 0, 0, 0, 0, 0, 1, 1, 0, 0, 0, 0, 1, 1],\n",
    "    [0, 0, 1, 1, 1, 1, 0, 0, 1, 1, 1, 1, 0, 0, 0, 0, 0, 0, 0, 0],\n",
    "    [0, 0, 1, 1, 1, 1, 0, 0, 0, 0, 0, 0, 0, 0, 1, 1, 1, 1, 0, 0]\n",
    "])\n"
   ]
  },
  {
   "cell_type": "code",
   "execution_count": 9,
   "metadata": {},
   "outputs": [
    {
     "data": {
      "text/plain": [
       "array([0, 0, 0, 0])"
      ]
     },
     "execution_count": 9,
     "metadata": {},
     "output_type": "execute_result"
    }
   ],
   "source": [
    "minterm_matrix[:, 0]"
   ]
  },
  {
   "cell_type": "code",
   "execution_count": 10,
   "metadata": {},
   "outputs": [
    {
     "name": "stdout",
     "output_type": "stream",
     "text": [
      "[[0 0 0 0 0 0 1 1 1 1]\n",
      " [0 0 0 0 1 1 0 0 1 1]\n",
      " [0 0 1 1 1 1 0 0 1 1]\n",
      " [0 1 0 1 0 1 0 1 0 1]]\n"
     ]
    }
   ],
   "source": [
    "for idx, integer in enumerate(integers):\n",
    "    minterm = format(integer, bit_format).replace(' ', '0')\n",
    "    minterm_array = np.array([int(char) for char in minterm])\n",
    "    minterm_matrix[:, idx] = minterm_array\n",
    "print(minterm_matrix)"
   ]
  },
  {
   "cell_type": "code",
   "execution_count": null,
   "metadata": {},
   "outputs": [],
   "source": []
  },
  {
   "cell_type": "code",
   "execution_count": 1,
   "metadata": {},
   "outputs": [
    {
     "ename": "NameError",
     "evalue": "name 'minterm_matrix' is not defined",
     "output_type": "error",
     "traceback": [
      "\u001b[1;31m---------------------------------------------------------------------------\u001b[0m",
      "\u001b[1;31mNameError\u001b[0m                                 Traceback (most recent call last)",
      "Cell \u001b[1;32mIn[1], line 1\u001b[0m\n\u001b[1;32m----> 1\u001b[0m \u001b[43mminterm_matrix\u001b[49m[:,\u001b[38;5;241m1\u001b[39m]\n",
      "\u001b[1;31mNameError\u001b[0m: name 'minterm_matrix' is not defined"
     ]
    }
   ],
   "source": [
    "minterm_matrix[:,1]"
   ]
  },
  {
   "cell_type": "code",
   "execution_count": 18,
   "metadata": {},
   "outputs": [
    {
     "name": "stdout",
     "output_type": "stream",
     "text": [
      "[0 1 1 0]\n",
      "{1, 2}\n"
     ]
    }
   ],
   "source": [
    "col4  = minterm_matrix[:, 4]\n",
    "print(col4)\n",
    "indicies = np.where(col4 == 1)[0]\n",
    "print(set(indicies))"
   ]
  },
  {
   "cell_type": "code",
   "execution_count": 12,
   "metadata": {},
   "outputs": [],
   "source": [
    "from collections import defaultdict\n",
    "test = defaultdict(lambda: defaultdict(str))\n"
   ]
  },
  {
   "cell_type": "code",
   "execution_count": 13,
   "metadata": {},
   "outputs": [],
   "source": [
    "test[0]['a']+= '1'\n",
    "test[0]['a']+= '1'\n",
    "test[0]['b']+= '0'\n",
    "test[0]['a']+= '1'\n",
    "test[1]['a']+= '1'"
   ]
  },
  {
   "cell_type": "code",
   "execution_count": 14,
   "metadata": {},
   "outputs": [
    {
     "data": {
      "text/plain": [
       "defaultdict(<function __main__.<lambda>()>,\n",
       "            {0: defaultdict(str, {'a': '111', 'b': '0'}),\n",
       "             1: defaultdict(str, {'a': '1'})})"
      ]
     },
     "execution_count": 14,
     "metadata": {},
     "output_type": "execute_result"
    }
   ],
   "source": [
    "test"
   ]
  },
  {
   "cell_type": "code",
   "execution_count": null,
   "metadata": {},
   "outputs": [],
   "source": []
  }
 ],
 "metadata": {
  "kernelspec": {
   "display_name": "yolov5",
   "language": "python",
   "name": "python3"
  },
  "language_info": {
   "codemirror_mode": {
    "name": "ipython",
    "version": 3
   },
   "file_extension": ".py",
   "mimetype": "text/x-python",
   "name": "python",
   "nbconvert_exporter": "python",
   "pygments_lexer": "ipython3",
   "version": "3.9.18"
  }
 },
 "nbformat": 4,
 "nbformat_minor": 2
}
