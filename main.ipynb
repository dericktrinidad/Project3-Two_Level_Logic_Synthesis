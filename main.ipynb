{
 "cells": [
  {
   "cell_type": "code",
   "execution_count": 1,
   "metadata": {},
   "outputs": [],
   "source": [
    "from utils.QMcC import QMcC_iter, prime_implicant\n",
    "from utils.branch_and_bound import minterm_matrix, BB_tree\n",
    "from collections import defaultdict\n",
    "import numpy as np"
   ]
  },
  {
   "cell_type": "code",
   "execution_count": 2,
   "metadata": {},
   "outputs": [],
   "source": [
    "pi_input = [1,3,4,5,6,7,10,11,12,13,14,15,18,19,20,21,22,23,26,27]\n",
    "#pi_input = [0, 1, 2, 3, 6, 7, 8, 9, 14, 15]"
   ]
  },
  {
   "cell_type": "code",
   "execution_count": 3,
   "metadata": {},
   "outputs": [],
   "source": [
    "QMC = QMcC_iter(pi_input)"
   ]
  },
  {
   "cell_type": "code",
   "execution_count": 4,
   "metadata": {},
   "outputs": [
    {
     "name": "stdout",
     "output_type": "stream",
     "text": [
      "defaultdict(<function QMcC_iter.simplify_prime_implicants.<locals>.<lambda> at 0x000002213E221A60>, {0: defaultdict(<class 'str'>, {(4, 5, 6, 7, 12, 13, 14, 15): '0-1--', (4, 5, 6, 7, 20, 21, 22, 23): '-01--'})})\n"
     ]
    }
   ],
   "source": [
    "pi = QMC.final_pi\n",
    "print(pi.pi_table)"
   ]
  },
  {
   "cell_type": "code",
   "execution_count": 5,
   "metadata": {},
   "outputs": [
    {
     "name": "stdout",
     "output_type": "stream",
     "text": [
      "Row Axis:  [((1, 3, 5, 7), '00--1'), ((3, 7, 11, 15), '0--11'), ((3, 7, 19, 23), '-0-11'), ((3, 11, 19, 27), '--011'), ((10, 11, 14, 15), '01-1-'), ((10, 11, 26, 27), '-101-'), ((18, 19, 22, 23), '10-1-'), ((18, 19, 26, 27), '1-01-'), ((4, 5, 6, 7, 12, 13, 14, 15), '0-1--'), ((4, 5, 6, 7, 20, 21, 22, 23), '-01--')]\n",
      "Column Axis:  [1, 3, 4, 5, 6, 7, 10, 11, 12, 13, 14, 15, 18, 19, 20, 21, 22, 23, 26, 27]\n",
      "[[1 1 0 1 0 1 0 0 0 0 0 0 0 0 0 0 0 0 0 0]\n",
      " [0 1 0 0 0 1 0 1 0 0 0 1 0 0 0 0 0 0 0 0]\n",
      " [0 1 0 0 0 1 0 0 0 0 0 0 0 1 0 0 0 1 0 0]\n",
      " [0 1 0 0 0 0 0 1 0 0 0 0 0 1 0 0 0 0 0 1]\n",
      " [0 0 0 0 0 0 1 1 0 0 1 1 0 0 0 0 0 0 0 0]\n",
      " [0 0 0 0 0 0 1 1 0 0 0 0 0 0 0 0 0 0 1 1]\n",
      " [0 0 0 0 0 0 0 0 0 0 0 0 1 1 0 0 1 1 0 0]\n",
      " [0 0 0 0 0 0 0 0 0 0 0 0 1 1 0 0 0 0 1 1]\n",
      " [0 0 1 1 1 1 0 0 1 1 1 1 0 0 0 0 0 0 0 0]\n",
      " [0 0 1 1 1 1 0 0 0 0 0 0 0 0 1 1 1 1 0 0]]\n",
      "Remove Essential Prime Implicants\n",
      "OPTIMIZE MATRIX\n",
      "Next Matrix After Reduce: \n",
      " [[0 0 0 0 0 0]\n",
      " [0 1 0 0 0 0]\n",
      " [0 0 0 1 0 0]\n",
      " [0 1 0 1 0 1]\n",
      " [1 1 0 0 0 0]\n",
      " [1 1 0 0 1 1]\n",
      " [0 0 1 1 0 0]\n",
      " [0 0 1 1 1 1]\n",
      " [0 0 0 0 0 0]\n",
      " [0 0 0 0 0 0]]\n",
      "next matrix type: \n",
      " <class 'numpy.ndarray'>\n",
      "Next Matrix After Reduce: \n",
      " []\n",
      "next matrix type: \n",
      " <class 'numpy.ndarray'>\n",
      "Next Matrix: \n",
      " []\n",
      "Next Minterms: \n",
      " [((4, 5, 6, 7, 12, 13, 14, 15), '0-1--'), ((1, 3, 5, 7), '00--1'), ((18, 19, 26, 27), '1-01-'), ((4, 5, 6, 7, 20, 21, 22, 23), '-01--'), ((10, 11, 26, 27), '-101-')]\n"
     ]
    },
    {
     "ename": "AttributeError",
     "evalue": "'list' object has no attribute 'shape'",
     "output_type": "error",
     "traceback": [
      "\u001b[1;31m---------------------------------------------------------------------------\u001b[0m",
      "\u001b[1;31mAttributeError\u001b[0m                            Traceback (most recent call last)",
      "Cell \u001b[1;32mIn[5], line 1\u001b[0m\n\u001b[1;32m----> 1\u001b[0m BB \u001b[38;5;241m=\u001b[39m \u001b[43mBB_tree\u001b[49m\u001b[43m(\u001b[49m\u001b[43mpi\u001b[49m\u001b[43m,\u001b[49m\u001b[43m \u001b[49m\u001b[43mpi_input\u001b[49m\u001b[43m)\u001b[49m\n",
      "File \u001b[1;32md:\\VisualStudioCode\\SBU-SPRING-2024\\ESE556_VLSIAlgos\\Project3-Two_Level_Logic_Synthesis\\utils\\branch_and_bound.py:21\u001b[0m, in \u001b[0;36mBB_tree.__init__\u001b[1;34m(self, pi, prime_implicants)\u001b[0m\n\u001b[0;32m     18\u001b[0m matrix \u001b[38;5;241m=\u001b[39m \u001b[38;5;28mself\u001b[39m\u001b[38;5;241m.\u001b[39mbuild_minterm_matrix(pi)\n\u001b[0;32m     20\u001b[0m \u001b[38;5;28mprint\u001b[39m(matrix\u001b[38;5;241m.\u001b[39mmatrix)\n\u001b[1;32m---> 21\u001b[0m \u001b[38;5;28mself\u001b[39m\u001b[38;5;241m.\u001b[39mfinal_equation \u001b[38;5;241m=\u001b[39m \u001b[38;5;28;43mself\u001b[39;49m\u001b[38;5;241;43m.\u001b[39;49m\u001b[43mBCP\u001b[49m\u001b[43m(\u001b[49m\u001b[43mmatrix\u001b[49m\u001b[43m)\u001b[49m\n\u001b[0;32m     22\u001b[0m \u001b[38;5;28mprint\u001b[39m(\u001b[38;5;28mself\u001b[39m\u001b[38;5;241m.\u001b[39mfinal_equation)\n",
      "File \u001b[1;32md:\\VisualStudioCode\\SBU-SPRING-2024\\ESE556_VLSIAlgos\\Project3-Two_Level_Logic_Synthesis\\utils\\branch_and_bound.py:46\u001b[0m, in \u001b[0;36mBB_tree.BCP\u001b[1;34m(self, matrix, best_cost, current_logic_equation)\u001b[0m\n\u001b[0;32m     43\u001b[0m next_lowerbound_cost \u001b[38;5;241m=\u001b[39m \u001b[38;5;28mlen\u001b[39m(\u001b[38;5;28mself\u001b[39m\u001b[38;5;241m.\u001b[39mMiS_quick(next_matrix))\n\u001b[0;32m     44\u001b[0m \u001b[38;5;28;01mif\u001b[39;00m (next_lowerbound_cost \u001b[38;5;241m+\u001b[39m next_upperbound_cost \u001b[38;5;241m>\u001b[39m best_cost): \u001b[38;5;28;01mreturn\u001b[39;00m \u001b[38;5;28;01mNone\u001b[39;00m \u001b[38;5;66;03m#No solution on this branch\u001b[39;00m\n\u001b[1;32m---> 46\u001b[0m Pi \u001b[38;5;241m=\u001b[39m \u001b[38;5;28;43mself\u001b[39;49m\u001b[38;5;241;43m.\u001b[39;49m\u001b[43mchoose_var\u001b[49m\u001b[43m(\u001b[49m\u001b[43mnext_logic_equation\u001b[49m\u001b[43m)\u001b[49m\n\u001b[0;32m     48\u001b[0m S1_node, S1_equation, S0_node, S0_equation \u001b[38;5;241m=\u001b[39m \u001b[38;5;28mself\u001b[39m\u001b[38;5;241m.\u001b[39msplit_logic_matrix(matrix, Pi, current_logic_equation)\n\u001b[0;32m     49\u001b[0m \u001b[38;5;66;03m#solution found\u001b[39;00m\n",
      "File \u001b[1;32md:\\VisualStudioCode\\SBU-SPRING-2024\\ESE556_VLSIAlgos\\Project3-Two_Level_Logic_Synthesis\\utils\\branch_and_bound.py:93\u001b[0m, in \u001b[0;36mBB_tree.choose_var\u001b[1;34m(self, matrix)\u001b[0m\n\u001b[0;32m     91\u001b[0m \u001b[38;5;28;01mdef\u001b[39;00m \u001b[38;5;21mchoose_var\u001b[39m(\u001b[38;5;28mself\u001b[39m, matrix:np\u001b[38;5;241m.\u001b[39marray):\n\u001b[0;32m     92\u001b[0m     col_zi \u001b[38;5;241m=\u001b[39m []\n\u001b[1;32m---> 93\u001b[0m     \u001b[38;5;28;01mfor\u001b[39;00m col_idx \u001b[38;5;129;01min\u001b[39;00m \u001b[38;5;28mrange\u001b[39m(\u001b[43mmatrix\u001b[49m\u001b[38;5;241;43m.\u001b[39;49m\u001b[43mshape\u001b[49m[\u001b[38;5;241m1\u001b[39m]):\n\u001b[0;32m     94\u001b[0m         col \u001b[38;5;241m=\u001b[39m matrix[col_idx, :]\n\u001b[0;32m     95\u001b[0m         zi \u001b[38;5;241m=\u001b[39m \u001b[38;5;241m1\u001b[39m \u001b[38;5;241m/\u001b[39m (np\u001b[38;5;241m.\u001b[39msum(col) \u001b[38;5;241m-\u001b[39m \u001b[38;5;241m1\u001b[39m)\n",
      "\u001b[1;31mAttributeError\u001b[0m: 'list' object has no attribute 'shape'"
     ]
    }
   ],
   "source": [
    "BB = BB_tree(pi, pi_input)"
   ]
  },
  {
   "cell_type": "code",
   "execution_count": null,
   "metadata": {},
   "outputs": [],
   "source": [
    "m = np.array([])"
   ]
  },
  {
   "cell_type": "code",
   "execution_count": null,
   "metadata": {},
   "outputs": [],
   "source": [
    "m"
   ]
  },
  {
   "cell_type": "code",
   "execution_count": null,
   "metadata": {},
   "outputs": [],
   "source": [
    "if not m.size < 0:\n",
    "    print(\"empty\")"
   ]
  },
  {
   "cell_type": "code",
   "execution_count": null,
   "metadata": {},
   "outputs": [],
   "source": [
    "matrix = np.array([\n",
    "    [1, 1, 0, 1, 0, 1, 0, 0, 0, 0, 0, 0, 0, 0, 0, 0, 0, 0, 0, 0],\n",
    "    [0, 1, 0, 0, 0, 1, 0, 1, 0, 0, 0, 1, 0, 0, 0, 0, 0, 0, 0, 0],\n",
    "    [0, 1, 0, 0, 0, 1, 0, 0, 0, 0, 0, 0, 0, 1, 0, 0, 0, 1, 0, 0],\n",
    "    [0, 1, 0, 0, 0, 0, 0, 1, 0, 0, 0, 0, 0, 1, 0, 0, 0, 0, 0, 1],\n",
    "    [0, 0, 0, 0, 0, 0, 1, 1, 0, 0, 1, 1, 0, 0, 0, 0, 0, 0, 0, 0],\n",
    "    [0, 0, 0, 0, 0, 0, 1, 1, 0, 0, 0, 0, 0, 0, 0, 0, 0, 0, 1, 1],\n",
    "    [0, 0, 0, 0, 0, 0, 0, 0, 0, 0, 0, 0, 1, 1, 0, 0, 1, 1, 0, 0],\n",
    "    [0, 0, 0, 0, 0, 0, 0, 0, 0, 0, 0, 0, 1, 1, 0, 0, 0, 0, 1, 1],\n",
    "    [0, 0, 1, 1, 1, 1, 0, 0, 1, 1, 1, 1, 0, 0, 0, 0, 0, 0, 0, 0],\n",
    "    [0, 0, 1, 1, 1, 1, 0, 0, 0, 0, 0, 0, 0, 0, 1, 1, 1, 1, 0, 0]\n",
    "])"
   ]
  }
 ],
 "metadata": {
  "kernelspec": {
   "display_name": "yolov5",
   "language": "python",
   "name": "python3"
  },
  "language_info": {
   "codemirror_mode": {
    "name": "ipython",
    "version": 3
   },
   "file_extension": ".py",
   "mimetype": "text/x-python",
   "name": "python",
   "nbconvert_exporter": "python",
   "pygments_lexer": "ipython3",
   "version": "3.9.18"
  }
 },
 "nbformat": 4,
 "nbformat_minor": 2
}
