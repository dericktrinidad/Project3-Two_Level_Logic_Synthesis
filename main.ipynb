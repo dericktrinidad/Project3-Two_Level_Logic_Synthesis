{
 "cells": [
  {
   "cell_type": "code",
   "execution_count": 1,
   "metadata": {},
   "outputs": [],
   "source": [
    "from utils.QMcC import QMcC_iter, prime_implicant\n",
    "from utils.branch_and_bound import minterm_matrix, BB_tree\n",
    "from collections import defaultdict\n",
    "import numpy as np"
   ]
  },
  {
   "cell_type": "code",
   "execution_count": 2,
   "metadata": {},
   "outputs": [],
   "source": [
    "pi_input = [1,3,4,5,6,7,10,11,12,13,14,15,18,19,20,21,22,23,26,27]\n",
    "#pi_input = [0, 1, 2, 3, 6, 7, 8, 9, 14, 15]"
   ]
  },
  {
   "cell_type": "code",
   "execution_count": 3,
   "metadata": {},
   "outputs": [],
   "source": [
    "QMC = QMcC_iter(pi_input)"
   ]
  },
  {
   "cell_type": "code",
   "execution_count": 4,
   "metadata": {},
   "outputs": [
    {
     "name": "stdout",
     "output_type": "stream",
     "text": [
      "defaultdict(<function QMcC_iter.simplify_prime_implicants.<locals>.<lambda> at 0x0000023933FA2820>, {0: defaultdict(<class 'str'>, {(4, 5, 6, 7, 12, 13, 14, 15): '0-1--', (4, 5, 6, 7, 20, 21, 22, 23): '-01--'})})\n"
     ]
    }
   ],
   "source": [
    "pi = QMC.final_pi\n",
    "print(pi.pi_table)"
   ]
  },
  {
   "cell_type": "code",
   "execution_count": 5,
   "metadata": {},
   "outputs": [
    {
     "name": "stdout",
     "output_type": "stream",
     "text": [
      "leftover_minterms:  {(10, 11, 14, 15), (10, 11, 26, 27), (1, 3, 5, 7), (3, 11, 19, 27), (3, 7, 19, 23), (18, 19, 22, 23), (18, 19, 26, 27), (3, 7, 11, 15)}\n",
      "Row Axis:  [((1, 3, 5, 7), '00--1'), ((3, 7, 11, 15), '0--11'), ((3, 7, 19, 23), '-0-11'), ((3, 11, 19, 27), '--011'), ((10, 11, 14, 15), '01-1-'), ((10, 11, 26, 27), '-101-'), ((18, 19, 22, 23), '10-1-'), ((18, 19, 26, 27), '1-01-'), ((4, 5, 6, 7, 12, 13, 14, 15), '0-1--'), ((4, 5, 6, 7, 20, 21, 22, 23), '-01--')]\n",
      "Column Axis:  [1, 3, 4, 5, 6, 7, 10, 11, 12, 13, 14, 15, 18, 19, 20, 21, 22, 23, 26, 27]\n",
      "[[1 1 0 1 0 1 0 0 0 0 0 0 0 0 0 0 0 0 0 0]\n",
      " [0 1 0 0 0 1 0 1 0 0 0 1 0 0 0 0 0 0 0 0]\n",
      " [0 1 0 0 0 1 0 0 0 0 0 0 0 1 0 0 0 1 0 0]\n",
      " [0 1 0 0 0 0 0 1 0 0 0 0 0 1 0 0 0 0 0 1]\n",
      " [0 0 0 0 0 0 1 1 0 0 1 1 0 0 0 0 0 0 0 0]\n",
      " [0 0 0 0 0 0 1 1 0 0 0 0 0 0 0 0 0 0 1 1]\n",
      " [0 0 0 0 0 0 0 0 0 0 0 0 1 1 0 0 1 1 0 0]\n",
      " [0 0 0 0 0 0 0 0 0 0 0 0 1 1 0 0 0 0 1 1]\n",
      " [0 0 1 1 1 1 0 0 1 1 1 1 0 0 0 0 0 0 0 0]\n",
      " [0 0 1 1 1 1 0 0 0 0 0 0 0 0 1 1 1 1 0 0]]\n",
      "Remove Essential Prime Implicants\n",
      "Next Matrix: \n",
      " [[0 1 0 0 0 0]\n",
      " [0 0 0 1 0 0]\n",
      " [0 1 0 1 0 1]\n",
      " [1 1 0 0 0 0]\n",
      " [1 1 0 0 1 1]\n",
      " [0 0 1 1 0 0]\n",
      " [0 0 1 1 1 1]]\n",
      "Next Minterms: \n",
      " [((1, 3, 5, 7), '00--1'), ((4, 5, 6, 7, 12, 13, 14, 15), '0-1--'), ((4, 5, 6, 7, 20, 21, 22, 23), '-01--')]\n",
      "None\n"
     ]
    }
   ],
   "source": [
    "BB = BB_tree(pi, pi_input)"
   ]
  },
  {
   "cell_type": "code",
   "execution_count": null,
   "metadata": {},
   "outputs": [],
   "source": [
    "matrix = np.array([\n",
    "    [1, 1, 0, 1, 0, 1, 0, 0, 0, 0, 0, 0, 0, 0, 0, 0, 0, 0, 0, 0],\n",
    "    [0, 1, 0, 0, 0, 1, 0, 1, 0, 0, 0, 1, 0, 0, 0, 0, 0, 0, 0, 0],\n",
    "    [0, 1, 0, 0, 0, 1, 0, 0, 0, 0, 0, 0, 0, 1, 0, 0, 0, 1, 0, 0],\n",
    "    [0, 1, 0, 0, 0, 0, 0, 1, 0, 0, 0, 0, 0, 1, 0, 0, 0, 0, 0, 1],\n",
    "    [0, 0, 0, 0, 0, 0, 1, 1, 0, 0, 1, 1, 0, 0, 0, 0, 0, 0, 0, 0],\n",
    "    [0, 0, 0, 0, 0, 0, 1, 1, 0, 0, 0, 0, 0, 0, 0, 0, 0, 0, 1, 1],\n",
    "    [0, 0, 0, 0, 0, 0, 0, 0, 0, 0, 0, 0, 1, 1, 0, 0, 1, 1, 0, 0],\n",
    "    [0, 0, 0, 0, 0, 0, 0, 0, 0, 0, 0, 0, 1, 1, 0, 0, 0, 0, 1, 1],\n",
    "    [0, 0, 1, 1, 1, 1, 0, 0, 1, 1, 1, 1, 0, 0, 0, 0, 0, 0, 0, 0],\n",
    "    [0, 0, 1, 1, 1, 1, 0, 0, 0, 0, 0, 0, 0, 0, 1, 1, 1, 1, 0, 0]\n",
    "])"
   ]
  },
  {
   "cell_type": "code",
   "execution_count": null,
   "metadata": {},
   "outputs": [],
   "source": [
    "matrix[0, :]"
   ]
  },
  {
   "cell_type": "code",
   "execution_count": null,
   "metadata": {},
   "outputs": [],
   "source": [
    "def MiS_quick(M):\n",
    "    # Convert M to a numpy array if it's not already\n",
    "    if not isinstance(M, np.ndarray):\n",
    "        M = np.array(M)\n",
    "    \n",
    "    MiS = set()\n",
    "    cost = 0\n",
    "    unit_cost = 1  # Cost of including each column in the set\n",
    "    \n",
    "    # Continue while M is not empty and there are columns left\n",
    "    while M.size > 0 and M.shape[1] > 0:\n",
    "        # Find the column with the least number of 1's (shortest column)\n",
    "        column_sums = np.sum(M, axis=0)\n",
    "        if np.all(column_sums == 0):\n",
    "            break  # Exit if there are no more 1's in any column\n",
    "\n",
    "        min_ones_index = np.argmin(column_sums)\n",
    "\n",
    "        # Add index to MiS and update cost\n",
    "        MiS.add(min_ones_index + 1)  # Adding 1 for human-readable indexing\n",
    "        cost += unit_cost\n",
    "        \n",
    "        # Find all rows where the chosen column has 1's\n",
    "        rows_with_ones = M[:, min_ones_index] == 1\n",
    "        \n",
    "        # Find all columns that have 1's in the same rows as the chosen column\n",
    "        columns_to_delete = np.any(M[rows_with_ones], axis=0)\n",
    "\n",
    "        # Delete these columns from M using np.delete\n",
    "        indices_to_delete = np.where(columns_to_delete)[0]  # Get the actual indices to delete\n",
    "        M = np.delete(M, indices_to_delete, axis=1)\n",
    "    \n",
    "    return cost  # Return the total cost of the selected columns"
   ]
  }
 ],
 "metadata": {
  "kernelspec": {
   "display_name": "yolov5",
   "language": "python",
   "name": "python3"
  },
  "language_info": {
   "codemirror_mode": {
    "name": "ipython",
    "version": 3
   },
   "file_extension": ".py",
   "mimetype": "text/x-python",
   "name": "python",
   "nbconvert_exporter": "python",
   "pygments_lexer": "ipython3",
   "version": "3.9.18"
  }
 },
 "nbformat": 4,
 "nbformat_minor": 2
}
