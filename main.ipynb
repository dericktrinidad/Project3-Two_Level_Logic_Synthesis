{
 "cells": [
  {
   "cell_type": "code",
   "execution_count": 1,
   "metadata": {},
   "outputs": [],
   "source": [
    "from utils.QMcC import QMcC_iter, prime_implicant\n",
    "from utils.branch_and_bound import minterm_matrix, BB_tree\n",
    "from collections import defaultdict\n",
    "import numpy as np"
   ]
  },
  {
   "cell_type": "code",
   "execution_count": 2,
   "metadata": {},
   "outputs": [],
   "source": [
    "pi_input = [1,3,4,5,6,7,10,11,12,13,14,15,18,19,20,21,22,23,26,27]\n",
    "#pi_input = [0, 1, 2, 3, 6, 7, 8, 9, 14, 15]"
   ]
  },
  {
   "cell_type": "code",
   "execution_count": 3,
   "metadata": {},
   "outputs": [],
   "source": [
    "QMC = QMcC_iter(pi_input)"
   ]
  },
  {
   "cell_type": "code",
   "execution_count": 4,
   "metadata": {},
   "outputs": [
    {
     "name": "stdout",
     "output_type": "stream",
     "text": [
      "defaultdict(<function QMcC_iter.simplify_prime_implicants.<locals>.<lambda> at 0x000002BFA7AA1790>, {0: defaultdict(<class 'str'>, {(4, 5, 6, 7, 12, 13, 14, 15): '0-1--', (4, 5, 6, 7, 20, 21, 22, 23): '-01--'})})\n"
     ]
    }
   ],
   "source": [
    "pi = QMC.final_pi\n",
    "print(pi.pi_table)"
   ]
  },
  {
   "cell_type": "code",
   "execution_count": 5,
   "metadata": {},
   "outputs": [
    {
     "name": "stdout",
     "output_type": "stream",
     "text": [
      "leftover_minterms:  {(10, 11, 14, 15), (10, 11, 26, 27), (1, 3, 5, 7), (3, 11, 19, 27), (3, 7, 19, 23), (18, 19, 22, 23), (18, 19, 26, 27), (3, 7, 11, 15)}\n",
      "Row Axis:  [((1, 3, 5, 7), '00--1'), ((3, 7, 11, 15), '0--11'), ((3, 7, 19, 23), '-0-11'), ((3, 11, 19, 27), '--011'), ((10, 11, 14, 15), '01-1-'), ((10, 11, 26, 27), '-101-'), ((18, 19, 22, 23), '10-1-'), ((18, 19, 26, 27), '1-01-'), ((4, 5, 6, 7, 12, 13, 14, 15), '0-1--'), ((4, 5, 6, 7, 20, 21, 22, 23), '-01--')]\n",
      "Column Axis:  [1, 3, 4, 5, 6, 7, 10, 11, 12, 13, 14, 15, 18, 19, 20, 21, 22, 23, 26, 27]\n",
      "[[1 1 0 1 0 1 0 0 0 0 0 0 0 0 0 0 0 0 0 0]\n",
      " [0 1 0 0 0 1 0 1 0 0 0 1 0 0 0 0 0 0 0 0]\n",
      " [0 1 0 0 0 1 0 0 0 0 0 0 0 1 0 0 0 1 0 0]\n",
      " [0 1 0 0 0 0 0 1 0 0 0 0 0 1 0 0 0 0 0 1]\n",
      " [0 0 0 0 0 0 1 1 0 0 1 1 0 0 0 0 0 0 0 0]\n",
      " [0 0 0 0 0 0 1 1 0 0 0 0 0 0 0 0 0 0 1 1]\n",
      " [0 0 0 0 0 0 0 0 0 0 0 0 1 1 0 0 1 1 0 0]\n",
      " [0 0 0 0 0 0 0 0 0 0 0 0 1 1 0 0 0 0 1 1]\n",
      " [0 0 1 1 1 1 0 0 1 1 1 1 0 0 0 0 0 0 0 0]\n",
      " [0 0 1 1 1 1 0 0 0 0 0 0 0 0 1 1 1 1 0 0]]\n",
      "Remove Essential Prime Implicants\n",
      "Next Matrix: \n",
      " [[0 1 0 0 0 0]\n",
      " [0 0 0 1 0 0]\n",
      " [0 1 0 1 0 1]\n",
      " [1 1 0 0 0 0]\n",
      " [1 1 0 0 1 1]\n",
      " [0 0 1 1 0 0]\n",
      " [0 0 1 1 1 1]]\n",
      "Next Minterms: \n",
      " [((1, 3, 5, 7), '00--1'), ((3, 7, 11, 15), '0--11'), ((3, 7, 19, 23), '-0-11'), ((3, 11, 19, 27), '--011'), ((10, 11, 14, 15), '01-1-'), ((10, 11, 26, 27), '-101-'), ((18, 19, 22, 23), '10-1-'), ((18, 19, 26, 27), '1-01-'), ((4, 5, 6, 7, 12, 13, 14, 15), '0-1--'), ((4, 5, 6, 7, 20, 21, 22, 23), '-01--')]\n",
      "None\n"
     ]
    }
   ],
   "source": [
    "BB = BB_tree(pi, pi_input)"
   ]
  },
  {
   "cell_type": "code",
   "execution_count": null,
   "metadata": {},
   "outputs": [],
   "source": [
    "matrix = np.array([\n",
    "    [1, 1, 0, 1, 0, 1, 0, 0, 0, 0, 0, 0, 0, 0, 0, 0, 0, 0, 0, 0],\n",
    "    [0, 1, 0, 0, 0, 1, 0, 1, 0, 0, 0, 1, 0, 0, 0, 0, 0, 0, 0, 0],\n",
    "    [0, 1, 0, 0, 0, 1, 0, 0, 0, 0, 0, 0, 0, 1, 0, 0, 0, 1, 0, 0],\n",
    "    [0, 1, 0, 0, 0, 0, 0, 1, 0, 0, 0, 0, 0, 1, 0, 0, 0, 0, 0, 1],\n",
    "    [0, 0, 0, 0, 0, 0, 1, 1, 0, 0, 1, 1, 0, 0, 0, 0, 0, 0, 0, 0],\n",
    "    [0, 0, 0, 0, 0, 0, 1, 1, 0, 0, 0, 0, 0, 0, 0, 0, 0, 0, 1, 1],\n",
    "    [0, 0, 0, 0, 0, 0, 0, 0, 0, 0, 0, 0, 1, 1, 0, 0, 1, 1, 0, 0],\n",
    "    [0, 0, 0, 0, 0, 0, 0, 0, 0, 0, 0, 0, 1, 1, 0, 0, 0, 0, 1, 1],\n",
    "    [0, 0, 1, 1, 1, 1, 0, 0, 1, 1, 1, 1, 0, 0, 0, 0, 0, 0, 0, 0],\n",
    "    [0, 0, 1, 1, 1, 1, 0, 0, 0, 0, 0, 0, 0, 0, 1, 1, 1, 1, 0, 0]\n",
    "])"
   ]
  },
  {
   "cell_type": "code",
   "execution_count": null,
   "metadata": {},
   "outputs": [],
   "source": [
    "matrix[0, :]"
   ]
  },
  {
   "cell_type": "code",
   "execution_count": null,
   "metadata": {},
   "outputs": [],
   "source": []
  }
 ],
 "metadata": {
  "kernelspec": {
   "display_name": "yolov5",
   "language": "python",
   "name": "python3"
  },
  "language_info": {
   "codemirror_mode": {
    "name": "ipython",
    "version": 3
   },
   "file_extension": ".py",
   "mimetype": "text/x-python",
   "name": "python",
   "nbconvert_exporter": "python",
   "pygments_lexer": "ipython3",
   "version": "3.9.18"
  }
 },
 "nbformat": 4,
 "nbformat_minor": 2
}
