{
 "cells": [
  {
   "cell_type": "code",
   "execution_count": 1,
   "metadata": {},
   "outputs": [],
   "source": [
    "from utils.QMcC import QMcC_iter, prime_implicant\n",
    "from utils.branch_and_bound import minterm_matrix, BB_tree\n",
    "from collections import defaultdict\n",
    "import numpy as np"
   ]
  },
  {
   "cell_type": "code",
   "execution_count": 2,
   "metadata": {},
   "outputs": [],
   "source": [
    "# pi_input = [1,3,4,5,6,7,10,11,12,13,14,15,18,19,20,21,22,23,26,27]\n",
    "# pi_input = [0, 1, 2, 3, 6, 7, 8, 9, 14, 15]\n",
    "pi_input = [0, 1, 5, 6, 7] "
   ]
  },
  {
   "cell_type": "code",
   "execution_count": 3,
   "metadata": {},
   "outputs": [],
   "source": [
    "QMC = QMcC_iter(pi_input)"
   ]
  },
  {
   "cell_type": "code",
   "execution_count": 4,
   "metadata": {},
   "outputs": [
    {
     "name": "stdout",
     "output_type": "stream",
     "text": [
      "defaultdict(<function QMcC_iter.simplify_prime_implicants.<locals>.<lambda> at 0x00000236136250D0>, {0: defaultdict(<class 'str'>, {(0, 1): '00-'}), 1: defaultdict(<class 'str'>, {(1, 5): '-01'}), 2: defaultdict(<class 'str'>, {(5, 7): '1-1', (6, 7): '11-'})})\n"
     ]
    }
   ],
   "source": [
    "pi = QMC.final_pi\n",
    "print(pi.pi_table)"
   ]
  },
  {
   "cell_type": "code",
   "execution_count": 5,
   "metadata": {},
   "outputs": [
    {
     "name": "stdout",
     "output_type": "stream",
     "text": [
      "Row Axis:  [((0, 1), '00-'), ((1, 5), '-01'), ((5, 7), '1-1'), ((6, 7), '11-')]\n",
      "Column Axis:  [0, 1, 5, 6, 7]\n",
      "[[1 1 0 0 0]\n",
      " [0 1 1 0 0]\n",
      " [0 0 1 0 1]\n",
      " [0 0 0 1 1]]\n",
      "[[1]\n",
      " [1]]\n",
      "cols zi:  [inf]\n",
      "Row Ones:  [0]\n",
      "Row Ones:  [0]\n",
      "PI INDEX:  1\n",
      "CURRENT_MATRIX: \n",
      "Solution Found!\n",
      "Solution Found!\n",
      "FINAL EQUATION:  [((6, 7), '11-'), ((0, 1), '00-'), ((1, 5), '-01')]\n",
      "Branch and Bound Algorithm Complete!\n"
     ]
    }
   ],
   "source": [
    "BB = BB_tree(pi, pi_input)"
   ]
  },
  {
   "cell_type": "code",
   "execution_count": null,
   "metadata": {},
   "outputs": [],
   "source": []
  }
 ],
 "metadata": {
  "kernelspec": {
   "display_name": "yolov5",
   "language": "python",
   "name": "python3"
  },
  "language_info": {
   "codemirror_mode": {
    "name": "ipython",
    "version": 3
   },
   "file_extension": ".py",
   "mimetype": "text/x-python",
   "name": "python",
   "nbconvert_exporter": "python",
   "pygments_lexer": "ipython3",
   "version": "3.9.18"
  }
 },
 "nbformat": 4,
 "nbformat_minor": 2
}
