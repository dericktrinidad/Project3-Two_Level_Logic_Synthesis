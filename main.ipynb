{
 "cells": [
  {
   "cell_type": "code",
   "execution_count": 1,
   "metadata": {},
   "outputs": [],
   "source": [
    "from utils.QMcC import QMcC_iter\n",
    "from utils.BnB import BB_tree"
   ]
  },
  {
   "cell_type": "code",
   "execution_count": 5,
   "metadata": {},
   "outputs": [
    {
     "name": "stdout",
     "output_type": "stream",
     "text": [
      "Row Axis:  [((0, 1, 2, 3), '00--'), ((0, 1, 8, 9), '-00-'), ((2, 3, 6, 7), '0-1-'), ((6, 7, 14, 15), '-11-')]\n",
      "Column Axis:  [0, 1, 2, 3, 6, 7, 8, 9, 14, 15]\n",
      "[[1 1 1 1 0 0 0 0 0 0]\n",
      " [1 1 0 0 0 0 1 1 0 0]\n",
      " [0 0 1 1 1 1 0 0 0 0]\n",
      " [0 0 0 0 1 1 0 0 1 1]]\n",
      "Solution Found!\n",
      "FinalL Equation:  [((2, 3, 6, 7), '0-1-'), ((6, 7, 14, 15), '-11-'), ((0, 1, 8, 9), '-00-')]\n",
      "Final Equation: F = 'A'C + BC + 'B''C'\n",
      "Branch and Bound Algorithm Complete!\n"
     ]
    }
   ],
   "source": [
    "pi_input = [0, 1, 2, 3, 6, 7, 8, 9, 14, 15]\n",
    "BB = BB_tree(QMcC_iter(pi_input).final_pi, pi_input)"
   ]
  },
  {
   "cell_type": "code",
   "execution_count": 2,
   "metadata": {},
   "outputs": [
    {
     "name": "stdout",
     "output_type": "stream",
     "text": [
      "Row Axis:  [((1, 3, 5, 7), '00--1'), ((3, 7, 11, 15), '0--11'), ((3, 7, 19, 23), '-0-11'), ((3, 11, 19, 27), '--011'), ((10, 11, 14, 15), '01-1-'), ((10, 11, 26, 27), '-101-'), ((18, 19, 22, 23), '10-1-'), ((18, 19, 26, 27), '1-01-'), ((4, 5, 6, 7, 12, 13, 14, 15), '0-1--'), ((4, 5, 6, 7, 20, 21, 22, 23), '-01--')]\n",
      "Column Axis:  [1, 3, 4, 5, 6, 7, 10, 11, 12, 13, 14, 15, 18, 19, 20, 21, 22, 23, 26, 27]\n",
      "[[1 1 0 1 0 1 0 0 0 0 0 0 0 0 0 0 0 0 0 0]\n",
      " [0 1 0 0 0 1 0 1 0 0 0 1 0 0 0 0 0 0 0 0]\n",
      " [0 1 0 0 0 1 0 0 0 0 0 0 0 1 0 0 0 1 0 0]\n",
      " [0 1 0 0 0 0 0 1 0 0 0 0 0 1 0 0 0 0 0 1]\n",
      " [0 0 0 0 0 0 1 1 0 0 1 1 0 0 0 0 0 0 0 0]\n",
      " [0 0 0 0 0 0 1 1 0 0 0 0 0 0 0 0 0 0 1 1]\n",
      " [0 0 0 0 0 0 0 0 0 0 0 0 1 1 0 0 1 1 0 0]\n",
      " [0 0 0 0 0 0 0 0 0 0 0 0 1 1 0 0 0 0 1 1]\n",
      " [0 0 1 1 1 1 0 0 1 1 1 1 0 0 0 0 0 0 0 0]\n",
      " [0 0 1 1 1 1 0 0 0 0 0 0 0 0 1 1 1 1 0 0]]\n",
      "Solution Found!\n",
      "FinalL Equation:  [((1, 3, 5, 7), '00--1'), ((4, 5, 6, 7, 20, 21, 22, 23), '-01--'), ((4, 5, 6, 7, 12, 13, 14, 15), '0-1--'), ((18, 19, 26, 27), '1-01-'), ((10, 11, 26, 27), '-101-')]\n",
      "Final Equation: F = 'A''B'E + 'B'C + 'A'C + A'C'D + B'C'D\n",
      "Branch and Bound Algorithm Complete!\n"
     ]
    }
   ],
   "source": [
    "pi_input2 = [1,3,4,5,6,7,10,11,12,13,14,15,18,19,20,21,22,23,26,27]\n",
    "BB2 = BB_tree(QMcC_iter(pi_input2).final_pi, pi_input2)"
   ]
  },
  {
   "cell_type": "code",
   "execution_count": 2,
   "metadata": {},
   "outputs": [
    {
     "name": "stdout",
     "output_type": "stream",
     "text": [
      "Row Axis:  [((0, 1), '00-'), ((1, 5), '-01'), ((5, 7), '1-1'), ((6, 7), '11-')]\n",
      "Column Axis:  [0, 1, 5, 6, 7]\n",
      "[[1 1 0 0 0]\n",
      " [0 1 1 0 0]\n",
      " [0 0 1 0 1]\n",
      " [0 0 0 1 1]]\n",
      "Solution Found!\n",
      "FinalL Equation:  [((5, 7), '1-1'), ((0, 1), '00-'), ((6, 7), '11-')]\n",
      "Final Equation: F = AC + 'A''B' + AB\n",
      "Branch and Bound Algorithm Complete!\n"
     ]
    }
   ],
   "source": [
    "pi_input3 = [0, 1, 5, 6, 7] # a'b' + ab + b'c\n",
    "BB3 = BB_tree(QMcC_iter(pi_input3).final_pi, pi_input3)"
   ]
  },
  {
   "cell_type": "code",
   "execution_count": 2,
   "metadata": {},
   "outputs": [
    {
     "name": "stdout",
     "output_type": "stream",
     "text": [
      "Row Axis:  [((0, 2, 4, 6), '0--0'), ((2, 3, 6, 7), '0-1-'), ((3, 7, 11, 15), '--11'), ((9, 11, 13, 15), '1--1')]\n",
      "Column Axis:  [0, 2, 3, 4, 6, 7, 9, 11, 13, 15]\n",
      "[[1 1 0 1 1 0 0 0 0 0]\n",
      " [0 1 1 0 1 1 0 0 0 0]\n",
      " [0 0 1 0 0 1 0 1 0 1]\n",
      " [0 0 0 0 0 0 1 1 1 1]]\n",
      "Solution Found!\n",
      "FinalL Equation:  [((2, 3, 6, 7), '0-1-'), ((9, 11, 13, 15), '1--1'), ((0, 2, 4, 6), '0--0')]\n",
      "Final Equation: F = 'A'C + AD + 'A''D'\n",
      "Branch and Bound Algorithm Complete!\n"
     ]
    }
   ],
   "source": [
    "pi_input4 = [0, 2, 3, 4, 6, 7, 9, 11, 13, 15] # a'd' + ad + cd\n",
    "BB4 = BB_tree(QMcC_iter(pi_input4).final_pi, pi_input4)"
   ]
  },
  {
   "cell_type": "code",
   "execution_count": 2,
   "metadata": {},
   "outputs": [
    {
     "name": "stdout",
     "output_type": "stream",
     "text": [
      "Row Axis:  [((4, 12), '-100'), ((8, 10), '10-0'), ((8, 12), '1-00'), ((10, 11), '101-'), ((11, 15), '1-11')]\n",
      "Column Axis:  [4, 8, 10, 11, 12, 15]\n",
      "[[1 0 0 0 1 0]\n",
      " [0 1 1 0 0 0]\n",
      " [0 1 0 0 1 0]\n",
      " [0 0 1 1 0 0]\n",
      " [0 0 0 1 0 1]]\n",
      "Solution Found!\n",
      "FinalL Equation:  [((4, 12), '-100'), ((8, 10), '10-0'), ((11, 15), '1-11')]\n",
      "Final Equation: F = B'C''D' + A'B''D' + ACD\n",
      "Branch and Bound Algorithm Complete!\n"
     ]
    }
   ],
   "source": [
    "pi_input5 = [4, 8, 10, 11, 12, 15]\n",
    "BB5 = BB_tree(QMcC_iter(pi_input5).final_pi, pi_input5)"
   ]
  }
 ],
 "metadata": {
  "kernelspec": {
   "display_name": "yolov5",
   "language": "python",
   "name": "python3"
  },
  "language_info": {
   "codemirror_mode": {
    "name": "ipython",
    "version": 3
   },
   "file_extension": ".py",
   "mimetype": "text/x-python",
   "name": "python",
   "nbconvert_exporter": "python",
   "pygments_lexer": "ipython3",
   "version": "3.9.16"
  }
 },
 "nbformat": 4,
 "nbformat_minor": 2
}
