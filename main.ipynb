{
 "cells": [
  {
   "cell_type": "code",
   "execution_count": 1,
   "metadata": {},
   "outputs": [],
   "source": [
    "from utils.branch_bound import minterm_matrix, branch_bound_tree\n",
    "from collections import defaultdict\n",
    "import numpy as np"
   ]
  },
  {
   "cell_type": "code",
   "execution_count": 2,
   "metadata": {},
   "outputs": [],
   "source": [
    "pi_input = [1,3,4,5,6,7,10,11,12,13,14,15,18,19,20,21,22,23,26,27]"
   ]
  },
  {
   "cell_type": "code",
   "execution_count": 3,
   "metadata": {},
   "outputs": [],
   "source": [
    "# pi_input = [0, 1, 2, 3, 6, 7, 8, 9, 14, 15]"
   ]
  },
  {
   "cell_type": "code",
   "execution_count": 4,
   "metadata": {},
   "outputs": [
    {
     "name": "stdout",
     "output_type": "stream",
     "text": [
      "{1: '00001', 3: '00011', 4: '00100', 5: '00101', 6: '00110', 7: '00111', 10: '01010', 11: '01011', 12: '01100', 13: '01101', 14: '01110', 15: '01111', 18: '10010', 19: '10011', 20: '10100', 21: '10101', 22: '10110', 23: '10111', 26: '11010', 27: '11011'}\n",
      "{(1, 3, 5, 7): '00--1', (1, 5): '00-01', (4, 5, 6, 7, 12, 13, 14, 15): '0-1--', (4, 5, 6, 7, 20, 21, 22, 23): '-01--', (4, 5, 12, 13, 5, 13): '0-10-', (4, 5, 20, 21, 5, 21): '-010-', (4, 6, 12, 14, 6, 14): '0-1-0', (4, 6, 20, 22, 6, 22): '-01-0', (4, 12): '0-100', (4, 20): '-0100'}\n"
     ]
    },
    {
     "ename": "IndexError",
     "evalue": "index 5 is out of bounds for axis 0 with size 5",
     "output_type": "error",
     "traceback": [
      "\u001b[1;31m---------------------------------------------------------------------------\u001b[0m",
      "\u001b[1;31mIndexError\u001b[0m                                Traceback (most recent call last)",
      "Cell \u001b[1;32mIn[4], line 1\u001b[0m\n\u001b[1;32m----> 1\u001b[0m bbt \u001b[38;5;241m=\u001b[39m \u001b[43mbranch_bound_tree\u001b[49m\u001b[43m(\u001b[49m\u001b[43mpi_input\u001b[49m\u001b[43m)\u001b[49m\n",
      "File \u001b[1;32md:\\VisualStudioCode\\SBU-SPRING-2024\\ESE556_VLSIAlgos\\Project3-Two_Level_Logic_Synthesis\\utils\\branch_bound.py:27\u001b[0m, in \u001b[0;36mbranch_bound_tree.__init__\u001b[1;34m(self, prime_implicants)\u001b[0m\n\u001b[0;32m     25\u001b[0m final_minterm_table, _ \u001b[38;5;241m=\u001b[39m \u001b[38;5;28mself\u001b[39m\u001b[38;5;241m.\u001b[39mspi_shell(group_table, minterm_table)\n\u001b[0;32m     26\u001b[0m \u001b[38;5;28mprint\u001b[39m(final_minterm_table)\n\u001b[1;32m---> 27\u001b[0m matrix \u001b[38;5;241m=\u001b[39m \u001b[38;5;28;43mself\u001b[39;49m\u001b[38;5;241;43m.\u001b[39;49m\u001b[43mbuild_minterm_matrix\u001b[49m\u001b[43m(\u001b[49m\u001b[43mfinal_minterm_table\u001b[49m\u001b[43m)\u001b[49m\n\u001b[0;32m     28\u001b[0m \u001b[38;5;28mprint\u001b[39m(matrix\u001b[38;5;241m.\u001b[39mmatrix)\n",
      "File \u001b[1;32md:\\VisualStudioCode\\SBU-SPRING-2024\\ESE556_VLSIAlgos\\Project3-Two_Level_Logic_Synthesis\\utils\\branch_bound.py:81\u001b[0m, in \u001b[0;36mbranch_bound_tree.build_minterm_matrix\u001b[1;34m(self, minterm_table)\u001b[0m\n\u001b[0;32m     79\u001b[0m matrix \u001b[38;5;241m=\u001b[39m np\u001b[38;5;241m.\u001b[39mzeros((\u001b[38;5;28mself\u001b[39m\u001b[38;5;241m.\u001b[39mmost_significant_bit, \u001b[38;5;28mlen\u001b[39m(\u001b[38;5;28mself\u001b[39m\u001b[38;5;241m.\u001b[39mprime_implicants)), dtype\u001b[38;5;241m=\u001b[39m\u001b[38;5;124m'\u001b[39m\u001b[38;5;124mint\u001b[39m\u001b[38;5;124m'\u001b[39m)\n\u001b[0;32m     80\u001b[0m \u001b[38;5;28;01mfor\u001b[39;00m idx, minterm \u001b[38;5;129;01min\u001b[39;00m \u001b[38;5;28menumerate\u001b[39m(minterm_table\u001b[38;5;241m.\u001b[39mkeys()):\n\u001b[1;32m---> 81\u001b[0m     row \u001b[38;5;241m=\u001b[39m \u001b[43mmatrix\u001b[49m\u001b[43m[\u001b[49m\u001b[43midx\u001b[49m\u001b[43m,\u001b[49m\u001b[43m \u001b[49m\u001b[43m:\u001b[49m\u001b[43m]\u001b[49m\n\u001b[0;32m     82\u001b[0m     \u001b[38;5;28;01mfor\u001b[39;00m bit \u001b[38;5;129;01min\u001b[39;00m minterm:\n\u001b[0;32m     83\u001b[0m         row_idx \u001b[38;5;241m=\u001b[39m \u001b[38;5;28mself\u001b[39m\u001b[38;5;241m.\u001b[39mprime_implicants\u001b[38;5;241m.\u001b[39mindex(bit)\n",
      "\u001b[1;31mIndexError\u001b[0m: index 5 is out of bounds for axis 0 with size 5"
     ]
    }
   ],
   "source": [
    "bbt = branch_bound_tree(pi_input)"
   ]
  },
  {
   "cell_type": "code",
   "execution_count": null,
   "metadata": {},
   "outputs": [],
   "source": [
    "test = {0}\n",
    "print(test)"
   ]
  },
  {
   "cell_type": "code",
   "execution_count": null,
   "metadata": {},
   "outputs": [],
   "source": [
    "test[0]"
   ]
  },
  {
   "cell_type": "code",
   "execution_count": null,
   "metadata": {},
   "outputs": [],
   "source": []
  }
 ],
 "metadata": {
  "kernelspec": {
   "display_name": "yolov5",
   "language": "python",
   "name": "python3"
  },
  "language_info": {
   "codemirror_mode": {
    "name": "ipython",
    "version": 3
   },
   "file_extension": ".py",
   "mimetype": "text/x-python",
   "name": "python",
   "nbconvert_exporter": "python",
   "pygments_lexer": "ipython3",
   "version": "3.9.18"
  }
 },
 "nbformat": 4,
 "nbformat_minor": 2
}
