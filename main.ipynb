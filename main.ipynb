{
 "cells": [
  {
   "cell_type": "code",
   "execution_count": 1,
   "metadata": {},
   "outputs": [],
   "source": [
    "from utils.branch_bound import minterm_matrix, branch_bound_tree\n",
    "from collections import defaultdict\n",
    "import numpy as np"
   ]
  },
  {
   "cell_type": "code",
   "execution_count": 2,
   "metadata": {},
   "outputs": [],
   "source": [
    "pi_input = [1,3,4,5,6,7,10,11,12,13,14,15,18,19,20,21,22,23,26,27]"
   ]
  },
  {
   "cell_type": "code",
   "execution_count": 3,
   "metadata": {},
   "outputs": [],
   "source": [
    "# pi_input = [0, 1, 2, 3, 6, 7, 8, 9, 14, 15]"
   ]
  },
  {
   "cell_type": "code",
   "execution_count": 4,
   "metadata": {},
   "outputs": [
    {
     "name": "stdout",
     "output_type": "stream",
     "text": [
      "{1: '00001', 3: '00011', 4: '00100', 5: '00101', 6: '00110', 7: '00111', 10: '01010', 11: '01011', 12: '01100', 13: '01101', 14: '01110', 15: '01111', 18: '10010', 19: '10011', 20: '10100', 21: '10101', 22: '10110', 23: '10111', 26: '11010', 27: '11011'}\n",
      "leftover_minterms:  {(10, 11, 14, 15), (10, 11, 26, 27), (1, 3, 5, 7), (3, 11, 19, 27), (3, 7, 19, 23), (18, 19, 22, 23), (18, 19, 26, 27), (3, 7, 11, 15)}\n",
      "Row Axis:  [((1, 3, 5, 7), '00--1'), ((3, 7, 11, 15), '0--11'), ((3, 7, 19, 23), '-0-11'), ((3, 11, 19, 27), '--011'), ((10, 11, 14, 15), '01-1-'), ((10, 11, 26, 27), '-101-'), ((18, 19, 22, 23), '10-1-'), ((18, 19, 26, 27), '1-01-'), ((4, 5, 6, 7, 12, 13, 14, 15), '0-1--'), ((4, 5, 6, 7, 20, 21, 22, 23), '-01--')]\n",
      "Column Axis:  [1, 3, 4, 5, 6, 7, 10, 11, 12, 13, 14, 15, 18, 19, 20, 21, 22, 23, 26, 27]\n",
      "[[1 1 0 1 0 1 0 0 0 0 0 0 0 0 0 0 0 0 0 0]\n",
      " [0 1 0 0 0 1 0 1 0 0 0 1 0 0 0 0 0 0 0 0]\n",
      " [0 1 0 0 0 1 0 0 0 0 0 0 0 1 0 0 0 1 0 0]\n",
      " [0 1 0 0 0 0 0 1 0 0 0 0 0 1 0 0 0 0 0 1]\n",
      " [0 0 0 0 0 0 1 1 0 0 1 1 0 0 0 0 0 0 0 0]\n",
      " [0 0 0 0 0 0 1 1 0 0 0 0 0 0 0 0 0 0 1 1]\n",
      " [0 0 0 0 0 0 0 0 0 0 0 0 1 1 0 0 1 1 0 0]\n",
      " [0 0 0 0 0 0 0 0 0 0 0 0 1 1 0 0 0 0 1 1]\n",
      " [0 0 1 1 1 1 0 0 1 1 1 1 0 0 0 0 0 0 0 0]\n",
      " [0 0 1 1 1 1 0 0 0 0 0 0 0 0 1 1 1 1 0 0]]\n",
      "Remove Essential Prime Implicants\n",
      "Next Matrix: \n",
      " [[1 0 1 0 1 0 0 0 0 0 0 0 0 0 0]\n",
      " [1 0 0 0 1 0 1 0 1 0 0 0 0 0 0]\n",
      " [1 0 0 0 1 0 0 0 0 0 1 0 1 0 0]\n",
      " [1 0 0 0 0 0 1 0 0 0 1 0 0 0 1]\n",
      " [0 0 0 0 0 1 1 1 1 0 0 0 0 0 0]\n",
      " [0 0 0 0 0 1 1 0 0 0 0 0 0 1 1]\n",
      " [0 0 0 0 0 0 0 0 0 1 1 1 1 0 0]\n",
      " [0 0 0 0 0 0 0 0 0 1 1 0 0 1 1]\n",
      " [0 1 1 1 1 0 0 1 1 0 0 0 0 0 0]\n",
      " [0 1 1 1 1 0 0 0 0 0 0 1 1 0 0]]\n",
      "Next Prime Implicants:  [ 3  4  5  6  7 10 11 14 15 18 19 22 23 26 27]\n",
      "Essential Prime Implicants {0: array([1, 0, 0, 0, 0, 0, 0, 0, 0, 0]), 8: array([0, 0, 0, 0, 0, 0, 0, 0, 1, 0]), 9: array([0, 0, 0, 0, 0, 0, 0, 0, 1, 0]), 14: array([0, 0, 0, 0, 0, 0, 0, 0, 0, 1]), 15: array([0, 0, 0, 0, 0, 0, 0, 0, 0, 1])}\n",
      "Essential Minterms1:  {0, 8, 9}\n",
      "Prune matrix using col dominance\n",
      "Next Matrix: \n",
      " [[1 0 0 0 0 0 0]\n",
      " [1 0 1 0 0 0 0]\n",
      " [1 0 0 0 1 0 0]\n",
      " [1 0 1 0 1 0 1]\n",
      " [0 1 1 0 0 0 0]\n",
      " [0 1 1 0 0 1 1]\n",
      " [0 0 0 1 1 0 0]\n",
      " [0 0 0 1 1 1 1]\n",
      " [0 0 0 0 0 0 0]\n",
      " [0 0 0 0 0 0 0]]\n",
      "Next Prime Implicants: \n",
      " [ 3 10 11 18 19 26 27]\n",
      "Essential Minterms2:  set()\n",
      "TOTAL ESSENTIAL ROW IDXS:  {0, 8, 9}\n",
      "TOTAL ESSENTIAL (MINTERM, BITS):  [((1, 3, 5, 7), '00--1'), ((4, 5, 6, 7, 12, 13, 14, 15), '0-1--'), ((4, 5, 6, 7, 20, 21, 22, 23), '-01--')]\n"
     ]
    }
   ],
   "source": [
    "bbt = branch_bound_tree(pi_input)"
   ]
  },
  {
   "cell_type": "code",
   "execution_count": null,
   "metadata": {},
   "outputs": [],
   "source": []
  }
 ],
 "metadata": {
  "kernelspec": {
   "display_name": "yolov5",
   "language": "python",
   "name": "python3"
  },
  "language_info": {
   "codemirror_mode": {
    "name": "ipython",
    "version": 3
   },
   "file_extension": ".py",
   "mimetype": "text/x-python",
   "name": "python",
   "nbconvert_exporter": "python",
   "pygments_lexer": "ipython3",
   "version": "3.9.18"
  }
 },
 "nbformat": 4,
 "nbformat_minor": 2
}
