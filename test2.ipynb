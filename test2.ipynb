{
 "cells": [
  {
   "cell_type": "code",
   "execution_count": 7,
   "metadata": {},
   "outputs": [],
   "source": [
    "import numpy as np\n",
    "from collections import defaultdict"
   ]
  },
  {
   "cell_type": "code",
   "execution_count": 8,
   "metadata": {},
   "outputs": [],
   "source": [
    "test = {(4, 5, 20, 21), (4, 6, 12, 14), (3, 7, 19, 23), (18, 19, 26, 27), (6, 7, 22, 23), (4, 5, 12, 13), (1, 3, 5, 7), (12, 13, 14, 15), (18, 19, 22, 23), (5, 7, 21, 23), (3, 7, 11, 15), (6, 7, 14, 15), (10, 11, 26, 27), (5, 7, 13, 15), (3, 11, 19, 27), (20, 21, 22, 23), (4, 5, 6, 7), (10, 11, 14, 15), (4, 6, 20, 22)}"
   ]
  },
  {
   "cell_type": "code",
   "execution_count": 11,
   "metadata": {},
   "outputs": [
    {
     "data": {
      "text/plain": [
       "(None, None)"
      ]
     },
     "execution_count": 11,
     "metadata": {},
     "output_type": "execute_result"
    }
   ],
   "source": [
    "test.discard((4, 5, 20, 21)), test.discard((4, 6, 12, 14))"
   ]
  },
  {
   "cell_type": "code",
   "execution_count": 12,
   "metadata": {},
   "outputs": [
    {
     "data": {
      "text/plain": [
       "{(1, 3, 5, 7),\n",
       " (3, 7, 11, 15),\n",
       " (3, 7, 19, 23),\n",
       " (3, 11, 19, 27),\n",
       " (4, 5, 6, 7),\n",
       " (4, 5, 12, 13),\n",
       " (4, 6, 20, 22),\n",
       " (5, 7, 13, 15),\n",
       " (5, 7, 21, 23),\n",
       " (6, 7, 14, 15),\n",
       " (6, 7, 22, 23),\n",
       " (10, 11, 14, 15),\n",
       " (10, 11, 26, 27),\n",
       " (12, 13, 14, 15),\n",
       " (18, 19, 22, 23),\n",
       " (18, 19, 26, 27),\n",
       " (20, 21, 22, 23)}"
      ]
     },
     "execution_count": 12,
     "metadata": {},
     "output_type": "execute_result"
    }
   ],
   "source": [
    "test"
   ]
  },
  {
   "cell_type": "code",
   "execution_count": 4,
   "metadata": {},
   "outputs": [
    {
     "data": {
      "text/plain": [
       "False"
      ]
     },
     "execution_count": 4,
     "metadata": {},
     "output_type": "execute_result"
    }
   ],
   "source": [
    "(4, 5, 20, 21) in test"
   ]
  },
  {
   "cell_type": "code",
   "execution_count": 5,
   "metadata": {},
   "outputs": [
    {
     "data": {
      "text/plain": [
       "{(1, 3, 5, 7),\n",
       " (3, 7, 11, 15),\n",
       " (3, 7, 19, 23),\n",
       " (3, 11, 19, 27),\n",
       " (4, 5, 6, 7),\n",
       " (4, 5, 12, 13),\n",
       " (4, 6, 12, 14),\n",
       " (4, 6, 20, 22),\n",
       " (5, 7, 13, 15),\n",
       " (5, 7, 21, 23),\n",
       " (6, 7, 14, 15),\n",
       " (6, 7, 22, 23),\n",
       " (10, 11, 14, 15),\n",
       " (10, 11, 26, 27),\n",
       " (12, 13, 14, 15),\n",
       " (18, 19, 22, 23),\n",
       " (18, 19, 26, 27),\n",
       " (20, 21, 22, 23)}"
      ]
     },
     "execution_count": 5,
     "metadata": {},
     "output_type": "execute_result"
    }
   ],
   "source": [
    "test"
   ]
  },
  {
   "cell_type": "code",
   "execution_count": null,
   "metadata": {},
   "outputs": [],
   "source": []
  }
 ],
 "metadata": {
  "kernelspec": {
   "display_name": "yolov5",
   "language": "python",
   "name": "python3"
  },
  "language_info": {
   "codemirror_mode": {
    "name": "ipython",
    "version": 3
   },
   "file_extension": ".py",
   "mimetype": "text/x-python",
   "name": "python",
   "nbconvert_exporter": "python",
   "pygments_lexer": "ipython3",
   "version": "3.9.18"
  }
 },
 "nbformat": 4,
 "nbformat_minor": 2
}
