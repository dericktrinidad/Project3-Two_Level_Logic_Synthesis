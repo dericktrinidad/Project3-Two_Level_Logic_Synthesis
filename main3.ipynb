{
 "cells": [
  {
   "cell_type": "code",
   "execution_count": 42,
   "metadata": {},
   "outputs": [
    {
     "ename": "ImportError",
     "evalue": "cannot import name 'matrix_table' from 'utils.branch_bound' (d:\\VisualStudioCode\\SBU-SPRING-2024\\ESE556_VLSIAlgos\\Project3-Two_Level_Logic_Synthesis\\utils\\branch_bound.py)",
     "output_type": "error",
     "traceback": [
      "\u001b[1;31m---------------------------------------------------------------------------\u001b[0m",
      "\u001b[1;31mImportError\u001b[0m                               Traceback (most recent call last)",
      "Cell \u001b[1;32mIn[42], line 1\u001b[0m\n\u001b[1;32m----> 1\u001b[0m \u001b[38;5;28;01mfrom\u001b[39;00m \u001b[38;5;21;01mutils\u001b[39;00m\u001b[38;5;21;01m.\u001b[39;00m\u001b[38;5;21;01mbranch_bound\u001b[39;00m \u001b[38;5;28;01mimport\u001b[39;00m matrix_table, branch_bound_tree\n",
      "\u001b[1;31mImportError\u001b[0m: cannot import name 'matrix_table' from 'utils.branch_bound' (d:\\VisualStudioCode\\SBU-SPRING-2024\\ESE556_VLSIAlgos\\Project3-Two_Level_Logic_Synthesis\\utils\\branch_bound.py)"
     ]
    }
   ],
   "source": [
    "from utils.branch_bound import matrix_table, branch_bound_tree"
   ]
  },
  {
   "cell_type": "code",
   "execution_count": null,
   "metadata": {},
   "outputs": [],
   "source": [
    "from collections import defaultdict"
   ]
  },
  {
   "cell_type": "code",
   "execution_count": null,
   "metadata": {},
   "outputs": [],
   "source": [
    "import numpy as np"
   ]
  },
  {
   "cell_type": "code",
   "execution_count": null,
   "metadata": {},
   "outputs": [
    {
     "name": "stdout",
     "output_type": "stream",
     "text": [
      "[1 1 1 0 1 0 1 0 1 0 1]\n"
     ]
    }
   ],
   "source": [
    "s = '11101010101'\n",
    "array_of_integers = np.array(list(s), dtype=int)\n",
    "print(array_of_integers)"
   ]
  },
  {
   "cell_type": "code",
   "execution_count": null,
   "metadata": {},
   "outputs": [
    {
     "name": "stdout",
     "output_type": "stream",
     "text": [
      "15\n",
      "1111\n",
      "4\n",
      "4b\n",
      "{0: '0000', 1: '0001', 2: '0010', 3: '0011', 6: '0110', 7: '0111', 8: '1000', 9: '1001', 14: '1110', 15: '1111'}\n"
     ]
    }
   ],
   "source": [
    "integers = [0, 1, 2, 3, 6, 7, 8, 9, 14, 15]\n",
    "max_int = max(integers)\n",
    "print(max_int)\n",
    "max_bit = format(max_int, 'b')\n",
    "print(max_bit)\n",
    "print(len(max_bit))\n",
    "bit_format = str(len(max_bit))+'b'\n",
    "print(bit_format)\n",
    "# Convert integers to binary representations\n",
    "binary_representations = {integer: format(integer, bit_format).replace(' ', '0') for integer in integers}\n",
    "print(binary_representations)\n"
   ]
  },
  {
   "cell_type": "code",
   "execution_count": null,
   "metadata": {},
   "outputs": [],
   "source": [
    "from collections import defaultdict"
   ]
  },
  {
   "cell_type": "code",
   "execution_count": null,
   "metadata": {},
   "outputs": [
    {
     "name": "stdout",
     "output_type": "stream",
     "text": [
      "defaultdict(<class 'list'>, {0: [0, 0, 0, 0], 1: [0, 0, 0, 1], 2: [0, 0, 1, 0], 3: [0, 0, 1, 1], 6: [0, 1, 1, 0], 7: [0, 1, 1, 1], 8: [1, 0, 0, 0], 9: [1, 0, 0, 1], 14: [1, 1, 1, 0], 15: [1, 1, 1, 1]})\n"
     ]
    }
   ],
   "source": [
    "binary_lists = defaultdict(list)\n",
    "for integer, bits_str in binary_representations.items():\n",
    "    bits = []\n",
    "    for byte in bits_str:\n",
    "        binary_lists[integer].append(int(byte))\n",
    "print(binary_lists)"
   ]
  },
  {
   "cell_type": "code",
   "execution_count": null,
   "metadata": {},
   "outputs": [],
   "source": [
    "minterm_table = defaultdict(str)\n",
    "group_table = defaultdict(list)\n",
    "for minterm, bits in binary_lists.items():\n",
    "    uninverted_bits_count = sum(bits)\n",
    "    \n",
    "    group_table[uninverted_bits_count].append((minterm,))\n",
    "    for byte in bits:\n",
    "        minterm_table[(minterm,)]+=str(byte)"
   ]
  },
  {
   "cell_type": "code",
   "execution_count": null,
   "metadata": {},
   "outputs": [
    {
     "data": {
      "text/plain": [
       "defaultdict(list,\n",
       "            {0: [(0,)],\n",
       "             1: [(1,), (2,), (8,)],\n",
       "             2: [(3,), (6,), (9,)],\n",
       "             3: [(7,), (14,)],\n",
       "             4: [(15,)]})"
      ]
     },
     "execution_count": 9,
     "metadata": {},
     "output_type": "execute_result"
    }
   ],
   "source": [
    "group_table"
   ]
  },
  {
   "cell_type": "code",
   "execution_count": null,
   "metadata": {},
   "outputs": [
    {
     "data": {
      "text/plain": [
       "defaultdict(str,\n",
       "            {(0,): '0000',\n",
       "             (1,): '0001',\n",
       "             (2,): '0010',\n",
       "             (3,): '0011',\n",
       "             (6,): '0110',\n",
       "             (7,): '0111',\n",
       "             (8,): '1000',\n",
       "             (9,): '1001',\n",
       "             (14,): '1110',\n",
       "             (15,): '1111'})"
      ]
     },
     "execution_count": 10,
     "metadata": {},
     "output_type": "execute_result"
    }
   ],
   "source": [
    "minterm_table"
   ]
  },
  {
   "cell_type": "code",
   "execution_count": null,
   "metadata": {},
   "outputs": [
    {
     "name": "stdout",
     "output_type": "stream",
     "text": [
      "0 1\n",
      "1 2\n",
      "2 3\n",
      "3 4\n"
     ]
    }
   ],
   "source": [
    "uninv_bits_counts = list(group_table.keys())\n",
    "for idx in range(len(uninv_bits_counts)-1):\n",
    "    current_group, next_group = uninv_bits_counts[idx], uninv_bits_counts[idx+1]\n",
    "    print(current_group, next_group)"
   ]
  },
  {
   "cell_type": "code",
   "execution_count": null,
   "metadata": {},
   "outputs": [
    {
     "name": "stdout",
     "output_type": "stream",
     "text": [
      "defaultdict(<class 'list'>, {0: [(0,)], 1: [(1,), (2,), (8,)], 2: [(3,), (6,), (9,)], 3: [(7,), (14,)], 4: [(15,)]})\n"
     ]
    }
   ],
   "source": [
    "print(group_table)"
   ]
  },
  {
   "cell_type": "code",
   "execution_count": null,
   "metadata": {},
   "outputs": [
    {
     "name": "stdout",
     "output_type": "stream",
     "text": [
      "defaultdict(<class 'str'>, {(0,): '0000', (1,): '0001', (2,): '0010', (3,): '0011', (6,): '0110', (7,): '0111', (8,): '1000', (9,): '1001', (14,): '1110', (15,): '1111'})\n"
     ]
    }
   ],
   "source": [
    "print(minterm_table)"
   ]
  },
  {
   "cell_type": "code",
   "execution_count": null,
   "metadata": {},
   "outputs": [
    {
     "data": {
      "text/plain": [
       "defaultdict(list,\n",
       "            {0: [(0,)],\n",
       "             1: [(1,), (2,), (8,)],\n",
       "             2: [(3,), (6,), (9,)],\n",
       "             3: [(7,), (14,)],\n",
       "             4: [(15,)]})"
      ]
     },
     "execution_count": 14,
     "metadata": {},
     "output_type": "execute_result"
    }
   ],
   "source": [
    "group_table"
   ]
  },
  {
   "cell_type": "code",
   "execution_count": null,
   "metadata": {},
   "outputs": [
    {
     "data": {
      "text/plain": [
       "[(1,), (2,), (8,)]"
      ]
     },
     "execution_count": 15,
     "metadata": {},
     "output_type": "execute_result"
    }
   ],
   "source": [
    "group_table[1]"
   ]
  },
  {
   "cell_type": "code",
   "execution_count": null,
   "metadata": {},
   "outputs": [
    {
     "data": {
      "text/plain": [
       "[(3,), (6,), (9,)]"
      ]
     },
     "execution_count": 16,
     "metadata": {},
     "output_type": "execute_result"
    }
   ],
   "source": [
    "group_table[2]"
   ]
  },
  {
   "cell_type": "code",
   "execution_count": null,
   "metadata": {},
   "outputs": [],
   "source": [
    "# uninv_bits_counts = list(group_table.keys())\n",
    "# next_group_table = defaultdict(list)\n",
    "# absorbed_groups = {}\n",
    "# for idx in range(len(uninv_bits_counts)-1):\n",
    "#     current_group, next_group = uninv_bits_counts[idx], uninv_bits_counts[idx+1]\n",
    "#     for current_minterms in group_table[current_group]:\n",
    "#         for next_minterms in group_table[next_group]:\n",
    "#             count = 0\n",
    "#             variable = ''\n",
    "#             current_bits = minterm_table[current_minterms]\n",
    "#             next_bits = minterm_table[next_minterms]\n",
    "#             for byte_idx in range(0,4):\n",
    "#                 current_byte = current_bits[byte_idx]\n",
    "#                 next_byte = next_bits[byte_idx]\n",
    "#                 if current_byte == next_byte:\n",
    "#                     if current_byte and next_byte:\n",
    "#                         variable += '1'\n",
    "#                     elif (not current_byte) and (not next_byte):\n",
    "#                         variable += '0'\n",
    "#                 # elif current_byte != next_byte: \n",
    "#                 else:\n",
    "#                     variable += '-'\n",
    "#                     count += 1\n",
    "#             if count >= 3:\n",
    "#                 continue\n",
    "#             next_group_table[idx].append((current_minterms, next_minterms))\n",
    "#             absorbed_groups[(current_minterms, next_minterms)] = variable\n",
    "            \n",
    "# print(absorbed_groups)\n"
   ]
  },
  {
   "cell_type": "code",
   "execution_count": null,
   "metadata": {},
   "outputs": [
    {
     "data": {
      "text/plain": [
       "defaultdict(list,\n",
       "            {0: [(0,)],\n",
       "             1: [(1,), (2,), (8,)],\n",
       "             2: [(3,), (6,), (9,)],\n",
       "             3: [(7,), (14,)],\n",
       "             4: [(15,)]})"
      ]
     },
     "execution_count": 20,
     "metadata": {},
     "output_type": "execute_result"
    }
   ],
   "source": [
    "group_table"
   ]
  },
  {
   "cell_type": "code",
   "execution_count": null,
   "metadata": {},
   "outputs": [],
   "source": [
    "def simplify_prime_implicants(group_table, minterm_table):\n",
    "    uninv_bits_counts = list(group_table.keys())\n",
    "    next_group_table = defaultdict(list)\n",
    "    next_minterm_table = {}\n",
    "    unique_bits = set()\n",
    "    last_group_check = set(group for group_vals in group_table.values() for group in group_vals)\n",
    "    for idx in range(len(uninv_bits_counts)-1):\n",
    "        current_group, next_group = uninv_bits_counts[idx], uninv_bits_counts[idx+1]\n",
    "        for current_minterms in group_table[current_group]:\n",
    "            print(\"Current Minterm: \", current_minterms)\n",
    "            for next_minterms in group_table[next_group]:\n",
    "                print(\"Next Minterm: \", next_minterms)\n",
    "                count = 0\n",
    "                variable = ''\n",
    "                current_bits = minterm_table[current_minterms]\n",
    "                print(\"Current Bits\", current_bits)\n",
    "                next_bits = minterm_table[next_minterms]\n",
    "\n",
    "                for byte_idx in range(0,4):\n",
    "                    current_byte = current_bits[byte_idx]\n",
    "                    next_byte = next_bits[byte_idx]\n",
    "                    if current_byte == next_byte:\n",
    "                        variable += current_bits[byte_idx]\n",
    "                    else:\n",
    "                        variable += '-'\n",
    "                        count += 1\n",
    "\n",
    "                if count == 1 and variable not in unique_bits:\n",
    "                    next_group_table[idx].append((current_minterms+next_minterms))\n",
    "                    next_minterm_table[current_minterms+next_minterms] = variable\n",
    "                    unique_bits.add(variable)\n",
    "                    print(\"Discard: \", current_minterms, next_minterms)\n",
    "                    last_group_check.discard(current_minterms)\n",
    "                    last_group_check.discard(next_minterms)\n",
    "                    print(\"New group check: \", last_group_check)\n",
    "    return next_group_table, next_minterm_table, last_group_check"
   ]
  },
  {
   "cell_type": "code",
   "execution_count": null,
   "metadata": {},
   "outputs": [
    {
     "name": "stdout",
     "output_type": "stream",
     "text": [
      "Current Minterm:  (0,)\n",
      "Next Minterm:  (1,)\n",
      "Current Bits 0000\n",
      "Discard:  (0,) (1,)\n",
      "New group check:  {(6,), (2,), (15,), (8,), (14,), (7,), (3,), (9,)}\n",
      "Next Minterm:  (2,)\n",
      "Current Bits 0000\n",
      "Discard:  (0,) (2,)\n",
      "New group check:  {(6,), (15,), (8,), (14,), (7,), (3,), (9,)}\n",
      "Next Minterm:  (8,)\n",
      "Current Bits 0000\n",
      "Discard:  (0,) (8,)\n",
      "New group check:  {(6,), (15,), (14,), (7,), (3,), (9,)}\n",
      "Current Minterm:  (1,)\n",
      "Next Minterm:  (3,)\n",
      "Current Bits 0001\n",
      "Discard:  (1,) (3,)\n",
      "New group check:  {(6,), (15,), (14,), (7,), (9,)}\n",
      "Next Minterm:  (6,)\n",
      "Current Bits 0001\n",
      "Next Minterm:  (9,)\n",
      "Current Bits 0001\n",
      "Discard:  (1,) (9,)\n",
      "New group check:  {(6,), (15,), (14,), (7,)}\n",
      "Current Minterm:  (2,)\n",
      "Next Minterm:  (3,)\n",
      "Current Bits 0010\n",
      "Discard:  (2,) (3,)\n",
      "New group check:  {(6,), (15,), (14,), (7,)}\n",
      "Next Minterm:  (6,)\n",
      "Current Bits 0010\n",
      "Discard:  (2,) (6,)\n",
      "New group check:  {(15,), (14,), (7,)}\n",
      "Next Minterm:  (9,)\n",
      "Current Bits 0010\n",
      "Current Minterm:  (8,)\n",
      "Next Minterm:  (3,)\n",
      "Current Bits 1000\n",
      "Next Minterm:  (6,)\n",
      "Current Bits 1000\n",
      "Next Minterm:  (9,)\n",
      "Current Bits 1000\n",
      "Discard:  (8,) (9,)\n",
      "New group check:  {(15,), (14,), (7,)}\n",
      "Current Minterm:  (3,)\n",
      "Next Minterm:  (7,)\n",
      "Current Bits 0011\n",
      "Discard:  (3,) (7,)\n",
      "New group check:  {(15,), (14,)}\n",
      "Next Minterm:  (14,)\n",
      "Current Bits 0011\n",
      "Current Minterm:  (6,)\n",
      "Next Minterm:  (7,)\n",
      "Current Bits 0110\n",
      "Discard:  (6,) (7,)\n",
      "New group check:  {(15,), (14,)}\n",
      "Next Minterm:  (14,)\n",
      "Current Bits 0110\n",
      "Discard:  (6,) (14,)\n",
      "New group check:  {(15,)}\n",
      "Current Minterm:  (9,)\n",
      "Next Minterm:  (7,)\n",
      "Current Bits 1001\n",
      "Next Minterm:  (14,)\n",
      "Current Bits 1001\n",
      "Current Minterm:  (7,)\n",
      "Next Minterm:  (15,)\n",
      "Current Bits 0111\n",
      "Discard:  (7,) (15,)\n",
      "New group check:  set()\n",
      "Current Minterm:  (14,)\n",
      "Next Minterm:  (15,)\n",
      "Current Bits 1110\n",
      "Discard:  (14,) (15,)\n",
      "New group check:  set()\n"
     ]
    }
   ],
   "source": [
    "next_group_table, next_minterm_table, last_group_check = simplify_prime_implicants(group_table, minterm_table)"
   ]
  },
  {
   "cell_type": "code",
   "execution_count": null,
   "metadata": {},
   "outputs": [
    {
     "data": {
      "text/plain": [
       "defaultdict(list,\n",
       "            {0: [(0, 1), (0, 2), (0, 8)],\n",
       "             1: [(1, 3), (1, 9), (2, 3), (2, 6), (8, 9)],\n",
       "             2: [(3, 7), (6, 7), (6, 14)],\n",
       "             3: [(7, 15), (14, 15)]})"
      ]
     },
     "execution_count": 36,
     "metadata": {},
     "output_type": "execute_result"
    }
   ],
   "source": [
    "next_group_table"
   ]
  },
  {
   "cell_type": "code",
   "execution_count": null,
   "metadata": {},
   "outputs": [
    {
     "data": {
      "text/plain": [
       "{(0, 1): '000-',\n",
       " (0, 2): '00-0',\n",
       " (0, 8): '-000',\n",
       " (1, 3): '00-1',\n",
       " (1, 9): '-001',\n",
       " (2, 3): '001-',\n",
       " (2, 6): '0-10',\n",
       " (8, 9): '100-',\n",
       " (3, 7): '0-11',\n",
       " (6, 7): '011-',\n",
       " (6, 14): '-110',\n",
       " (7, 15): '-111',\n",
       " (14, 15): '111-'}"
      ]
     },
     "execution_count": 37,
     "metadata": {},
     "output_type": "execute_result"
    }
   ],
   "source": [
    "next_minterm_table"
   ]
  },
  {
   "cell_type": "code",
   "execution_count": null,
   "metadata": {},
   "outputs": [
    {
     "name": "stdout",
     "output_type": "stream",
     "text": [
      "Current Minterm:  (0, 1)\n",
      "Next Minterm:  (1, 3)\n",
      "Current Bits 000-\n",
      "Next Minterm:  (1, 9)\n",
      "Current Bits 000-\n",
      "Next Minterm:  (2, 3)\n",
      "Current Bits 000-\n",
      "Discard:  (0, 1) (2, 3)\n",
      "New group check:  {(3, 7), (6, 14), (14, 15), (6, 7), (0, 2), (8, 9), (2, 6), (7, 15), (0, 8), (1, 3), (1, 9)}\n",
      "Next Minterm:  (2, 6)\n",
      "Current Bits 000-\n",
      "Next Minterm:  (8, 9)\n",
      "Current Bits 000-\n",
      "Discard:  (0, 1) (8, 9)\n",
      "New group check:  {(3, 7), (6, 14), (14, 15), (6, 7), (0, 2), (2, 6), (7, 15), (0, 8), (1, 3), (1, 9)}\n",
      "Current Minterm:  (0, 2)\n",
      "Next Minterm:  (1, 3)\n",
      "Current Bits 00-0\n",
      "Next Minterm:  (1, 9)\n",
      "Current Bits 00-0\n",
      "Next Minterm:  (2, 3)\n",
      "Current Bits 00-0\n",
      "Next Minterm:  (2, 6)\n",
      "Current Bits 00-0\n",
      "Next Minterm:  (8, 9)\n",
      "Current Bits 00-0\n",
      "Current Minterm:  (0, 8)\n",
      "Next Minterm:  (1, 3)\n",
      "Current Bits -000\n",
      "Next Minterm:  (1, 9)\n",
      "Current Bits -000\n",
      "Next Minterm:  (2, 3)\n",
      "Current Bits -000\n",
      "Next Minterm:  (2, 6)\n",
      "Current Bits -000\n",
      "Next Minterm:  (8, 9)\n",
      "Current Bits -000\n",
      "Current Minterm:  (1, 3)\n",
      "Next Minterm:  (3, 7)\n",
      "Current Bits 00-1\n",
      "Next Minterm:  (6, 7)\n",
      "Current Bits 00-1\n",
      "Next Minterm:  (6, 14)\n",
      "Current Bits 00-1\n",
      "Current Minterm:  (1, 9)\n",
      "Next Minterm:  (3, 7)\n",
      "Current Bits -001\n",
      "Next Minterm:  (6, 7)\n",
      "Current Bits -001\n",
      "Next Minterm:  (6, 14)\n",
      "Current Bits -001\n",
      "Current Minterm:  (2, 3)\n",
      "Next Minterm:  (3, 7)\n",
      "Current Bits 001-\n",
      "Next Minterm:  (6, 7)\n",
      "Current Bits 001-\n",
      "Discard:  (2, 3) (6, 7)\n",
      "New group check:  {(3, 7), (6, 14), (14, 15), (0, 2), (2, 6), (7, 15), (0, 8), (1, 3), (1, 9)}\n",
      "Next Minterm:  (6, 14)\n",
      "Current Bits 001-\n",
      "Current Minterm:  (2, 6)\n",
      "Next Minterm:  (3, 7)\n",
      "Current Bits 0-10\n",
      "Next Minterm:  (6, 7)\n",
      "Current Bits 0-10\n",
      "Next Minterm:  (6, 14)\n",
      "Current Bits 0-10\n",
      "Current Minterm:  (8, 9)\n",
      "Next Minterm:  (3, 7)\n",
      "Current Bits 100-\n",
      "Next Minterm:  (6, 7)\n",
      "Current Bits 100-\n",
      "Next Minterm:  (6, 14)\n",
      "Current Bits 100-\n",
      "Current Minterm:  (3, 7)\n",
      "Next Minterm:  (7, 15)\n",
      "Current Bits 0-11\n",
      "Next Minterm:  (14, 15)\n",
      "Current Bits 0-11\n",
      "Current Minterm:  (6, 7)\n",
      "Next Minterm:  (7, 15)\n",
      "Current Bits 011-\n",
      "Next Minterm:  (14, 15)\n",
      "Current Bits 011-\n",
      "Discard:  (6, 7) (14, 15)\n",
      "New group check:  {(3, 7), (6, 14), (0, 2), (2, 6), (7, 15), (0, 8), (1, 3), (1, 9)}\n",
      "Current Minterm:  (6, 14)\n",
      "Next Minterm:  (7, 15)\n",
      "Current Bits -110\n",
      "Next Minterm:  (14, 15)\n",
      "Current Bits -110\n"
     ]
    }
   ],
   "source": [
    "next_group_table2, next_minterm_table2, last_group_check2 = simplify_prime_implicants(next_group_table, next_minterm_table)"
   ]
  },
  {
   "cell_type": "code",
   "execution_count": null,
   "metadata": {},
   "outputs": [
    {
     "data": {
      "text/plain": [
       "defaultdict(list,\n",
       "            {0: [(0, 1, 2, 3), (0, 1, 8, 9)],\n",
       "             1: [(2, 3, 6, 7)],\n",
       "             2: [(6, 7, 14, 15)]})"
      ]
     },
     "execution_count": 39,
     "metadata": {},
     "output_type": "execute_result"
    }
   ],
   "source": [
    "next_group_table2"
   ]
  },
  {
   "cell_type": "code",
   "execution_count": null,
   "metadata": {},
   "outputs": [
    {
     "data": {
      "text/plain": [
       "{(0, 1, 2, 3): '00--',\n",
       " (0, 1, 8, 9): '-00-',\n",
       " (2, 3, 6, 7): '0-1-',\n",
       " (6, 7, 14, 15): '-11-'}"
      ]
     },
     "execution_count": 40,
     "metadata": {},
     "output_type": "execute_result"
    }
   ],
   "source": [
    "next_minterm_table2"
   ]
  },
  {
   "cell_type": "code",
   "execution_count": 43,
   "metadata": {},
   "outputs": [
    {
     "data": {
      "text/plain": [
       "[(0, 1, 2, 3),\n",
       " (0, 1, 8, 9),\n",
       " (2, 3, 6, 7),\n",
       " (6, 7, 14, 15),\n",
       " (6, 7, 14, 15, 2, 3, 6, 7),\n",
       " (12, 23, 124, 123, 123, 343, 63, 72)]"
      ]
     },
     "execution_count": 43,
     "metadata": {},
     "output_type": "execute_result"
    }
   ],
   "source": [
    "test = {(0, 1, 2, 3),\n",
    " (0, 1, 8, 9),\n",
    " (2, 3, 6, 7),\n",
    " (6, 7, 14, 15),\n",
    " (6, 7, 14, 15, 2, 3, 6, 7),\n",
    " (12, 23, 124, 123, 123, 343, 63, 72),\n",
    " }\n",
    "sorted_minterms = sorted(test, key=lambda x: (len(x), x))\n",
    "sorted_minterms"
   ]
  },
  {
   "cell_type": "code",
   "execution_count": null,
   "metadata": {},
   "outputs": [
    {
     "name": "stdout",
     "output_type": "stream",
     "text": [
      "[[0 0 0 0 0 0 0 0 0 0]\n",
      " [0 0 0 0 0 0 0 0 0 0]\n",
      " [0 0 0 0 0 0 0 0 0 0]\n",
      " [0 0 0 0 0 0 0 0 0 0]]\n"
     ]
    }
   ],
   "source": [
    "max_bit = format(max_int, 'b')\n",
    "most_significant_bit = len(max_bit)\n",
    "minterm_matrix = np.zeros((most_significant_bit,len(integers)), dtype='int')\n",
    "print(minterm_matrix)"
   ]
  },
  {
   "cell_type": "code",
   "execution_count": null,
   "metadata": {},
   "outputs": [
    {
     "data": {
      "text/plain": [
       "5"
      ]
     },
     "execution_count": 36,
     "metadata": {},
     "output_type": "execute_result"
    }
   ],
   "source": [
    "integers.index(7)"
   ]
  },
  {
   "cell_type": "code",
   "execution_count": null,
   "metadata": {},
   "outputs": [],
   "source": [
    "for idx, minterm in enumerate(next_minterm_table2.keys()):\n",
    "    row = minterm_matrix[idx, :]\n",
    "    for bit in minterm:\n",
    "        row_idx = integers.index(bit)\n",
    "        row[row_idx] = 1\n",
    "    "
   ]
  },
  {
   "cell_type": "code",
   "execution_count": null,
   "metadata": {},
   "outputs": [
    {
     "data": {
      "text/plain": [
       "[0, 1, 2, 3, 6, 7, 8, 9, 14, 15]"
      ]
     },
     "execution_count": 38,
     "metadata": {},
     "output_type": "execute_result"
    }
   ],
   "source": [
    "integers"
   ]
  },
  {
   "cell_type": "code",
   "execution_count": null,
   "metadata": {},
   "outputs": [
    {
     "data": {
      "text/plain": [
       "dict_keys([(0, 1, 2, 3), (0, 1, 8, 9), (2, 3, 6, 7), (6, 7, 14, 15)])"
      ]
     },
     "execution_count": 39,
     "metadata": {},
     "output_type": "execute_result"
    }
   ],
   "source": [
    "next_minterm_table2.keys()"
   ]
  },
  {
   "cell_type": "code",
   "execution_count": null,
   "metadata": {},
   "outputs": [
    {
     "data": {
      "text/plain": [
       "array([[1, 1, 1, 1, 0, 0, 0, 0, 0, 0],\n",
       "       [1, 1, 0, 0, 0, 0, 1, 1, 0, 0],\n",
       "       [0, 0, 1, 1, 1, 1, 0, 0, 0, 0],\n",
       "       [0, 0, 0, 0, 1, 1, 0, 0, 1, 1]])"
      ]
     },
     "execution_count": 66,
     "metadata": {},
     "output_type": "execute_result"
    }
   ],
   "source": [
    "minterm_matrix"
   ]
  },
  {
   "cell_type": "code",
   "execution_count": null,
   "metadata": {},
   "outputs": [
    {
     "name": "stdout",
     "output_type": "stream",
     "text": [
      "1\n",
      "[6 7 8 9]\n"
     ]
    }
   ],
   "source": [
    "col_sums = np.sum(minterm_matrix, axis = 0)\n",
    "min_col_sums = min(col_sums)\n",
    "print(min_col_sums)\n",
    "indicies = np.where(col_sums == min_col_sums)[0]\n",
    "print(indicies)"
   ]
  },
  {
   "cell_type": "code",
   "execution_count": null,
   "metadata": {},
   "outputs": [
    {
     "name": "stdout",
     "output_type": "stream",
     "text": [
      "[[1 1 1 1 0 0]\n",
      " [1 1 0 0 0 0]\n",
      " [0 0 1 1 1 1]\n",
      " [0 0 0 0 1 1]]\n"
     ]
    }
   ],
   "source": [
    "next_matrix = np.delete(minterm_matrix, indicies, axis = 1)\n",
    "print(next_matrix)"
   ]
  },
  {
   "cell_type": "code",
   "execution_count": null,
   "metadata": {},
   "outputs": [
    {
     "data": {
      "text/plain": [
       "[0, 1, 2, 3, 6, 7, 8, 9, 14, 15]"
      ]
     },
     "execution_count": 69,
     "metadata": {},
     "output_type": "execute_result"
    }
   ],
   "source": [
    "integers"
   ]
  },
  {
   "cell_type": "code",
   "execution_count": null,
   "metadata": {},
   "outputs": [
    {
     "name": "stdout",
     "output_type": "stream",
     "text": [
      "[0 1 2 3 6 7]\n"
     ]
    }
   ],
   "source": [
    "next_prime_implicants = np.delete(integers, indicies, axis = 0)\n",
    "print(next_prime_implicants)"
   ]
  },
  {
   "cell_type": "code",
   "execution_count": null,
   "metadata": {},
   "outputs": [
    {
     "data": {
      "text/plain": [
       "10"
      ]
     },
     "execution_count": 51,
     "metadata": {},
     "output_type": "execute_result"
    }
   ],
   "source": []
  },
  {
   "cell_type": "code",
   "execution_count": null,
   "metadata": {},
   "outputs": [
    {
     "name": "stdout",
     "output_type": "stream",
     "text": [
      "[0 0 0 1]\n",
      "3\n"
     ]
    }
   ],
   "source": [
    "test = minterm_matrix[: , -1]\n",
    "print(test)\n",
    "idx = np.where(test == 1)[0][0]\n",
    "print(idx)"
   ]
  },
  {
   "cell_type": "code",
   "execution_count": null,
   "metadata": {},
   "outputs": [],
   "source": [
    "next_group_table3, next_minterm_table3 = simplify_prime_implicants(next_group_table2, next_minterm_table2)"
   ]
  },
  {
   "cell_type": "code",
   "execution_count": null,
   "metadata": {},
   "outputs": [
    {
     "data": {
      "text/plain": [
       "defaultdict(list, {})"
      ]
     },
     "execution_count": 32,
     "metadata": {},
     "output_type": "execute_result"
    }
   ],
   "source": [
    "next_group_table3"
   ]
  },
  {
   "cell_type": "code",
   "execution_count": null,
   "metadata": {},
   "outputs": [
    {
     "data": {
      "text/plain": [
       "{}"
      ]
     },
     "execution_count": 33,
     "metadata": {},
     "output_type": "execute_result"
    }
   ],
   "source": [
    "next_minterm_table3"
   ]
  },
  {
   "cell_type": "code",
   "execution_count": null,
   "metadata": {},
   "outputs": [],
   "source": []
  },
  {
   "cell_type": "code",
   "execution_count": null,
   "metadata": {},
   "outputs": [
    {
     "name": "stdout",
     "output_type": "stream",
     "text": [
      "{8, 9, 14, 15}\n"
     ]
    }
   ],
   "source": [
    "unique_check = set()\n",
    "for minterms in next_minterm_table2.keys():\n",
    "    for group in minterms:\n",
    "        if group not in unique_check:\n",
    "            unique_check.add(group)\n",
    "        else:\n",
    "            unique_check.remove(group)\n",
    "print(unique_check)"
   ]
  },
  {
   "cell_type": "code",
   "execution_count": null,
   "metadata": {},
   "outputs": [],
   "source": []
  },
  {
   "cell_type": "code",
   "execution_count": null,
   "metadata": {},
   "outputs": [
    {
     "name": "stdout",
     "output_type": "stream",
     "text": [
      "[(0, 1, 8, 9), (6, 7, 14, 15)]\n",
      "['-00-', '-11-']\n"
     ]
    }
   ],
   "source": [
    "keys_unique_groups = []\n",
    "vals_unique_groups = []\n",
    "for key in next_minterm_table2:\n",
    "    if any(group in unique_check for group in key):\n",
    "        keys_unique_groups.append(key)\n",
    "        vals_unique_groups.append(next_minterm_table2[key])\n",
    "print(keys_unique_groups)\n",
    "print(vals_unique_groups)"
   ]
  },
  {
   "cell_type": "code",
   "execution_count": null,
   "metadata": {},
   "outputs": [],
   "source": [
    "results = []\n",
    "for minterms, bits in next_minterm_table2.items():\n",
    "    final_result = ''\n",
    "    if minterms not in keys_unique_groups:\n",
    "        for unique_key in keys_unique_groups:\n",
    "            final_result += next_minterm_table2[unique_key] + '+'\n",
    "        final_result += bits\n",
    "        results.append(final_result)"
   ]
  },
  {
   "cell_type": "code",
   "execution_count": null,
   "metadata": {},
   "outputs": [
    {
     "name": "stdout",
     "output_type": "stream",
     "text": [
      "['-00-+-11-+00--', '-00-+-11-+0-1-']\n"
     ]
    }
   ],
   "source": [
    "print(results)"
   ]
  }
 ],
 "metadata": {
  "kernelspec": {
   "display_name": "yolov5",
   "language": "python",
   "name": "python3"
  },
  "language_info": {
   "codemirror_mode": {
    "name": "ipython",
    "version": 3
   },
   "file_extension": ".py",
   "mimetype": "text/x-python",
   "name": "python",
   "nbconvert_exporter": "python",
   "pygments_lexer": "ipython3",
   "version": "3.9.18"
  }
 },
 "nbformat": 4,
 "nbformat_minor": 2
}
