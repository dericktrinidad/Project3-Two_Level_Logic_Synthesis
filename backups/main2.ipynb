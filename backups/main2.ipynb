{
 "cells": [
  {
   "cell_type": "code",
   "execution_count": 3,
   "metadata": {},
   "outputs": [],
   "source": [
    "from utils.branch_bound import matrix_table, branch_bound_tree"
   ]
  },
  {
   "cell_type": "code",
   "execution_count": 1,
   "metadata": {},
   "outputs": [],
   "source": [
    "from collections import defaultdict"
   ]
  },
  {
   "cell_type": "code",
   "execution_count": 2,
   "metadata": {},
   "outputs": [],
   "source": [
    "import numpy as np"
   ]
  },
  {
   "cell_type": "code",
   "execution_count": 3,
   "metadata": {},
   "outputs": [
    {
     "name": "stdout",
     "output_type": "stream",
     "text": [
      "[1 1 1 0 1 0 1 0 1 0 1]\n"
     ]
    }
   ],
   "source": [
    "s = '11101010101'\n",
    "array_of_integers = np.array(list(s), dtype=int)\n",
    "print(array_of_integers)"
   ]
  },
  {
   "cell_type": "code",
   "execution_count": 4,
   "metadata": {},
   "outputs": [
    {
     "name": "stdout",
     "output_type": "stream",
     "text": [
      "15\n",
      "1111\n",
      "4\n",
      "4b\n",
      "{0: '0000', 1: '0001', 2: '0010', 3: '0011', 6: '0110', 7: '0111', 8: '1000', 9: '1001', 14: '1110', 15: '1111'}\n"
     ]
    }
   ],
   "source": [
    "integers = [0, 1, 2, 3, 6, 7, 8, 9, 14, 15]\n",
    "max_int = max(integers)\n",
    "print(max_int)\n",
    "max_bit = format(max_int, 'b')\n",
    "print(max_bit)\n",
    "print(len(max_bit))\n",
    "bit_format = str(len(max_bit))+'b'\n",
    "print(bit_format)\n",
    "# Convert integers to binary representations\n",
    "binary_representations = {integer: format(integer, bit_format).replace(' ', '0') for integer in integers}\n",
    "print(binary_representations)\n"
   ]
  },
  {
   "cell_type": "code",
   "execution_count": 5,
   "metadata": {},
   "outputs": [],
   "source": [
    "from collections import defaultdict"
   ]
  },
  {
   "cell_type": "code",
   "execution_count": 19,
   "metadata": {},
   "outputs": [],
   "source": [
    "def build_binary_table(prime_implicants):\n",
    "    max_int = max(prime_implicants)\n",
    "    max_bit = format(max_int, 'b')\n",
    "    bit_format = str(len(max_bit))+'b'\n",
    "    binary_representations = {integer: format(integer, bit_format).replace(' ', '0') for integer in prime_implicants}\n",
    "    return binary_representations"
   ]
  },
  {
   "cell_type": "code",
   "execution_count": 20,
   "metadata": {},
   "outputs": [
    {
     "name": "stdout",
     "output_type": "stream",
     "text": [
      "{0: '0000', 1: '0001', 2: '0010', 3: '0011', 6: '0110', 7: '0111', 8: '1000', 9: '1001', 14: '1110', 15: '1111'}\n"
     ]
    }
   ],
   "source": [
    "integers = [0, 1, 2, 3, 6, 7, 8, 9, 14, 15]\n",
    "binary_table = build_binary_table(integers)\n",
    "print(binary_table)"
   ]
  },
  {
   "cell_type": "code",
   "execution_count": 21,
   "metadata": {},
   "outputs": [],
   "source": [
    "def build_initial_pi(binary_lists):\n",
    "    pi_table = defaultdict(lambda: defaultdict(str))\n",
    "    for minterm, bits in binary_lists.items():\n",
    "        uninverted_bits_count = sum([int(char) for char in bits])\n",
    "        pi_table[uninverted_bits_count][(minterm,)]=bits\n",
    "    return pi_table"
   ]
  },
  {
   "cell_type": "code",
   "execution_count": 22,
   "metadata": {},
   "outputs": [
    {
     "name": "stdout",
     "output_type": "stream",
     "text": [
      "defaultdict(<function build_initial_pi.<locals>.<lambda> at 0x0000023EFA464940>, {0: defaultdict(<class 'str'>, {(0,): '0000'}), 1: defaultdict(<class 'str'>, {(1,): '0001', (2,): '0010', (8,): '1000'}), 2: defaultdict(<class 'str'>, {(3,): '0011', (6,): '0110', (9,): '1001'}), 3: defaultdict(<class 'str'>, {(7,): '0111', (14,): '1110'}), 4: defaultdict(<class 'str'>, {(15,): '1111'})})\n"
     ]
    }
   ],
   "source": [
    "pi_table = build_initial_pi(binary_table)\n",
    "print(pi_table)"
   ]
  },
  {
   "cell_type": "code",
   "execution_count": 28,
   "metadata": {},
   "outputs": [],
   "source": [
    "def simplify_prime_implicants(pi_table):\n",
    "    uninv_bits_counts = list(pi_table.keys())\n",
    "    next_pi_table = defaultdict(lambda: defaultdict(str))\n",
    "    unique_bits = set()\n",
    "    leftover_check = set(minterms for group_minterms in pi_table.values() for minterms in group_minterms.keys())\n",
    "    print(leftover_check)\n",
    "    for idx in range(len(uninv_bits_counts)-1):\n",
    "        current_group, next_group = uninv_bits_counts[idx], uninv_bits_counts[idx+1]\n",
    "        for current_minterms, current_bits in pi_table[current_group].items():\n",
    "            for next_minterms, next_bits in pi_table[next_group].items():\n",
    "                count = 0\n",
    "                variable = ''\n",
    "                for byte_idx in range(0,4):\n",
    "                    current_byte = current_bits[byte_idx]\n",
    "                    next_byte = next_bits[byte_idx]\n",
    "                    if current_byte == next_byte:\n",
    "                        variable += current_bits[byte_idx]\n",
    "                    else:\n",
    "                        variable += '-'\n",
    "                        count += 1\n",
    "\n",
    "                if count == 1:\n",
    "                    if variable not in unique_bits:\n",
    "                        # next_group_table[idx].append((current_minterms+next_minterms))\n",
    "                        # next_minterm_table[current_minterms+next_minterms] = variable\n",
    "                        next_pi_table[idx][current_minterms+next_minterms] = variable\n",
    "                        unique_bits.add(variable)\n",
    "\n",
    "                    leftover_check.discard(current_minterms), leftover_check.discard(next_minterms)\n",
    "                    \n",
    "    return next_pi_table, leftover_check"
   ]
  },
  {
   "cell_type": "code",
   "execution_count": 54,
   "metadata": {},
   "outputs": [
    {
     "ename": "TypeError",
     "evalue": "set expected at most 1 argument, got 2",
     "output_type": "error",
     "traceback": [
      "\u001b[1;31m---------------------------------------------------------------------------\u001b[0m",
      "\u001b[1;31mTypeError\u001b[0m                                 Traceback (most recent call last)",
      "Cell \u001b[1;32mIn[54], line 2\u001b[0m\n\u001b[0;32m      1\u001b[0m a \u001b[38;5;241m=\u001b[39m \u001b[38;5;28mset\u001b[39m((\u001b[38;5;241m1\u001b[39m,\u001b[38;5;241m3\u001b[39m,\u001b[38;5;241m4\u001b[39m,\u001b[38;5;241m5\u001b[39m))\n\u001b[1;32m----> 2\u001b[0m b \u001b[38;5;241m=\u001b[39m \u001b[38;5;28;43mset\u001b[39;49m\u001b[43m(\u001b[49m\u001b[43m(\u001b[49m\u001b[38;5;241;43m2\u001b[39;49m\u001b[43m,\u001b[49m\u001b[38;5;241;43m3\u001b[39;49m\u001b[43m,\u001b[49m\u001b[38;5;241;43m4\u001b[39;49m\u001b[43m,\u001b[49m\u001b[38;5;241;43m5\u001b[39;49m\u001b[43m)\u001b[49m\u001b[43m,\u001b[49m\u001b[43m \u001b[49m\u001b[43m(\u001b[49m\u001b[38;5;241;43m23\u001b[39;49m\u001b[43m,\u001b[49m\u001b[38;5;241;43m3\u001b[39;49m\u001b[43m,\u001b[49m\u001b[38;5;241;43m45\u001b[39;49m\u001b[43m,\u001b[49m\u001b[43m)\u001b[49m\u001b[43m)\u001b[49m\n",
      "\u001b[1;31mTypeError\u001b[0m: set expected at most 1 argument, got 2"
     ]
    }
   ],
   "source": [
    "a = set((1,3,4,5))\n",
    "b = set((2,3,4,5), (23,3,45,))"
   ]
  },
  {
   "cell_type": "code",
   "execution_count": 43,
   "metadata": {},
   "outputs": [
    {
     "name": "stdout",
     "output_type": "stream",
     "text": [
      "{(6,), (2,), (15,), (8,), (14,), (1,), (7,), (0,), (3,), (9,)}\n",
      "defaultdict(<function simplify_prime_implicants.<locals>.<lambda> at 0x0000023EFC596B80>, {0: defaultdict(<class 'str'>, {(0, 1): '000-', (0, 2): '00-0', (0, 8): '-000'}), 1: defaultdict(<class 'str'>, {(1, 3): '00-1', (1, 9): '-001', (2, 3): '001-', (2, 6): '0-10', (8, 9): '100-'}), 2: defaultdict(<class 'str'>, {(3, 7): '0-11', (6, 7): '011-', (6, 14): '-110'}), 3: defaultdict(<class 'str'>, {(7, 15): '-111', (14, 15): '111-'})})\n",
      "set()\n"
     ]
    }
   ],
   "source": [
    "next_pi_table, last_group_check = simplify_prime_implicants(pi_table)\n",
    "print(next_pi_table)\n",
    "print(last_group_check)"
   ]
  },
  {
   "cell_type": "code",
   "execution_count": 44,
   "metadata": {},
   "outputs": [
    {
     "name": "stdout",
     "output_type": "stream",
     "text": [
      "{(0, 1), (3, 7), (6, 14), (14, 15), (2, 3), (6, 7), (0, 2), (8, 9), (2, 6), (7, 15), (0, 8), (1, 3), (1, 9)}\n"
     ]
    }
   ],
   "source": [
    "next_pi_table2, last_group_check2 = simplify_prime_implicants(next_pi_table)"
   ]
  },
  {
   "cell_type": "code",
   "execution_count": 45,
   "metadata": {},
   "outputs": [
    {
     "data": {
      "text/plain": [
       "defaultdict(<function __main__.simplify_prime_implicants.<locals>.<lambda>()>,\n",
       "            {0: defaultdict(str, {(0, 1, 2, 3): '00--', (0, 1, 8, 9): '-00-'}),\n",
       "             1: defaultdict(str, {(2, 3, 6, 7): '0-1-'}),\n",
       "             2: defaultdict(str, {(6, 7, 14, 15): '-11-'})})"
      ]
     },
     "execution_count": 45,
     "metadata": {},
     "output_type": "execute_result"
    }
   ],
   "source": [
    "next_pi_table2"
   ]
  },
  {
   "cell_type": "code",
   "execution_count": 49,
   "metadata": {},
   "outputs": [
    {
     "name": "stdout",
     "output_type": "stream",
     "text": [
      "{(0, 1, 2, 3): '00--', (0, 1, 8, 9): '-00-', (2, 3, 6, 7): '0-1-', (6, 7, 14, 15): '-11-'}\n"
     ]
    }
   ],
   "source": [
    "test = {minterm:bits for minterms in next_pi_table2.values() for minterm, bits in minterms.items()}\n",
    "print(test)"
   ]
  },
  {
   "cell_type": "code",
   "execution_count": 53,
   "metadata": {},
   "outputs": [
    {
     "name": "stdout",
     "output_type": "stream",
     "text": [
      "0\n",
      "((0, 1, 2, 3), '00--')\n",
      "1\n",
      "((0, 1, 8, 9), '-00-')\n",
      "2\n",
      "((2, 3, 6, 7), '0-1-')\n",
      "3\n",
      "((6, 7, 14, 15), '-11-')\n"
     ]
    }
   ],
   "source": [
    "for idx, minterm in enumerate(test.items()):\n",
    "    print(idx)\n",
    "    print(minterm)"
   ]
  },
  {
   "cell_type": "code",
   "execution_count": 39,
   "metadata": {},
   "outputs": [],
   "source": [
    "test = set(minterm for minterms in next_pi_table2.values() for minterm in minterms.keys() )"
   ]
  },
  {
   "cell_type": "code",
   "execution_count": 57,
   "metadata": {},
   "outputs": [
    {
     "name": "stdout",
     "output_type": "stream",
     "text": [
      "[((0, 1, 2, 3), '00--'), ((0, 1, 8, 9), '-00-'), ((2, 3, 6, 7), '0-1-'), ((2, 3, 6, 7, 0, 1, 8, 9), '0-1-')]\n"
     ]
    }
   ],
   "source": [
    "test = [((2, 3, 6, 7,0, 1, 8, 9), '0-1-'), ((0, 1, 2, 3), '00--'), ((0, 1, 8, 9), '-00-'),((2, 3, 6, 7), '0-1-')]\n",
    "minterm_table_sorted = sorted(test, key=lambda x: (len(x[0]), x[0]))\n",
    "print(minterm_table_sorted)"
   ]
  },
  {
   "cell_type": "code",
   "execution_count": 33,
   "metadata": {},
   "outputs": [
    {
     "data": {
      "text/plain": [
       "set()"
      ]
     },
     "execution_count": 33,
     "metadata": {},
     "output_type": "execute_result"
    }
   ],
   "source": [
    "last_group_check2"
   ]
  },
  {
   "cell_type": "code",
   "execution_count": 35,
   "metadata": {},
   "outputs": [
    {
     "name": "stdout",
     "output_type": "stream",
     "text": [
      "[[0 0 0 0 0 0 0 0 0 0]\n",
      " [0 0 0 0 0 0 0 0 0 0]\n",
      " [0 0 0 0 0 0 0 0 0 0]\n",
      " [0 0 0 0 0 0 0 0 0 0]]\n"
     ]
    }
   ],
   "source": [
    "max_bit = format(max_int, 'b')\n",
    "most_significant_bit = len(max_bit)\n",
    "minterm_matrix = np.zeros((most_significant_bit,len(integers)), dtype='int')\n",
    "print(minterm_matrix)"
   ]
  },
  {
   "cell_type": "code",
   "execution_count": 36,
   "metadata": {},
   "outputs": [
    {
     "data": {
      "text/plain": [
       "5"
      ]
     },
     "execution_count": 36,
     "metadata": {},
     "output_type": "execute_result"
    }
   ],
   "source": [
    "integers.index(7)"
   ]
  },
  {
   "cell_type": "code",
   "execution_count": 37,
   "metadata": {},
   "outputs": [],
   "source": [
    "for idx, minterm in enumerate(next_minterm_table2.keys()):\n",
    "    row = minterm_matrix[idx, :]\n",
    "    for bit in minterm:\n",
    "        row_idx = integers.index(bit)\n",
    "        row[row_idx] = 1\n",
    "    "
   ]
  },
  {
   "cell_type": "code",
   "execution_count": 38,
   "metadata": {},
   "outputs": [
    {
     "data": {
      "text/plain": [
       "[0, 1, 2, 3, 6, 7, 8, 9, 14, 15]"
      ]
     },
     "execution_count": 38,
     "metadata": {},
     "output_type": "execute_result"
    }
   ],
   "source": [
    "integers"
   ]
  },
  {
   "cell_type": "code",
   "execution_count": 39,
   "metadata": {},
   "outputs": [
    {
     "data": {
      "text/plain": [
       "dict_keys([(0, 1, 2, 3), (0, 1, 8, 9), (2, 3, 6, 7), (6, 7, 14, 15)])"
      ]
     },
     "execution_count": 39,
     "metadata": {},
     "output_type": "execute_result"
    }
   ],
   "source": [
    "next_minterm_table2.keys()"
   ]
  },
  {
   "cell_type": "code",
   "execution_count": 66,
   "metadata": {},
   "outputs": [
    {
     "data": {
      "text/plain": [
       "array([[1, 1, 1, 1, 0, 0, 0, 0, 0, 0],\n",
       "       [1, 1, 0, 0, 0, 0, 1, 1, 0, 0],\n",
       "       [0, 0, 1, 1, 1, 1, 0, 0, 0, 0],\n",
       "       [0, 0, 0, 0, 1, 1, 0, 0, 1, 1]])"
      ]
     },
     "execution_count": 66,
     "metadata": {},
     "output_type": "execute_result"
    }
   ],
   "source": [
    "minterm_matrix"
   ]
  },
  {
   "cell_type": "code",
   "execution_count": 67,
   "metadata": {},
   "outputs": [
    {
     "name": "stdout",
     "output_type": "stream",
     "text": [
      "1\n",
      "[6 7 8 9]\n"
     ]
    }
   ],
   "source": [
    "col_sums = np.sum(minterm_matrix, axis = 0)\n",
    "min_col_sums = min(col_sums)\n",
    "print(min_col_sums)\n",
    "indicies = np.where(col_sums == min_col_sums)[0]\n",
    "print(indicies)"
   ]
  },
  {
   "cell_type": "code",
   "execution_count": 68,
   "metadata": {},
   "outputs": [
    {
     "name": "stdout",
     "output_type": "stream",
     "text": [
      "[[1 1 1 1 0 0]\n",
      " [1 1 0 0 0 0]\n",
      " [0 0 1 1 1 1]\n",
      " [0 0 0 0 1 1]]\n"
     ]
    }
   ],
   "source": [
    "next_matrix = np.delete(minterm_matrix, indicies, axis = 1)\n",
    "print(next_matrix)"
   ]
  },
  {
   "cell_type": "code",
   "execution_count": 69,
   "metadata": {},
   "outputs": [
    {
     "data": {
      "text/plain": [
       "[0, 1, 2, 3, 6, 7, 8, 9, 14, 15]"
      ]
     },
     "execution_count": 69,
     "metadata": {},
     "output_type": "execute_result"
    }
   ],
   "source": [
    "integers"
   ]
  },
  {
   "cell_type": "code",
   "execution_count": 73,
   "metadata": {},
   "outputs": [
    {
     "name": "stdout",
     "output_type": "stream",
     "text": [
      "[0 1 2 3 6 7]\n"
     ]
    }
   ],
   "source": [
    "next_prime_implicants = np.delete(integers, indicies, axis = 0)\n",
    "print(next_prime_implicants)"
   ]
  },
  {
   "cell_type": "code",
   "execution_count": 51,
   "metadata": {},
   "outputs": [
    {
     "data": {
      "text/plain": [
       "10"
      ]
     },
     "execution_count": 51,
     "metadata": {},
     "output_type": "execute_result"
    }
   ],
   "source": []
  },
  {
   "cell_type": "code",
   "execution_count": 50,
   "metadata": {},
   "outputs": [
    {
     "name": "stdout",
     "output_type": "stream",
     "text": [
      "[0 0 0 1]\n",
      "3\n"
     ]
    }
   ],
   "source": [
    "test = minterm_matrix[: , -1]\n",
    "print(test)\n",
    "idx = np.where(test == 1)[0][0]\n",
    "print(idx)"
   ]
  },
  {
   "cell_type": "code",
   "execution_count": 31,
   "metadata": {},
   "outputs": [],
   "source": [
    "next_group_table3, next_minterm_table3 = simplify_prime_implicants(next_group_table2, next_minterm_table2)"
   ]
  },
  {
   "cell_type": "code",
   "execution_count": 32,
   "metadata": {},
   "outputs": [
    {
     "data": {
      "text/plain": [
       "defaultdict(list, {})"
      ]
     },
     "execution_count": 32,
     "metadata": {},
     "output_type": "execute_result"
    }
   ],
   "source": [
    "next_group_table3"
   ]
  },
  {
   "cell_type": "code",
   "execution_count": 33,
   "metadata": {},
   "outputs": [
    {
     "data": {
      "text/plain": [
       "{}"
      ]
     },
     "execution_count": 33,
     "metadata": {},
     "output_type": "execute_result"
    }
   ],
   "source": [
    "next_minterm_table3"
   ]
  },
  {
   "cell_type": "code",
   "execution_count": null,
   "metadata": {},
   "outputs": [],
   "source": []
  },
  {
   "cell_type": "code",
   "execution_count": 143,
   "metadata": {},
   "outputs": [
    {
     "name": "stdout",
     "output_type": "stream",
     "text": [
      "{8, 9, 14, 15}\n"
     ]
    }
   ],
   "source": [
    "unique_check = set()\n",
    "for minterms in next_minterm_table2.keys():\n",
    "    for group in minterms:\n",
    "        if group not in unique_check:\n",
    "            unique_check.add(group)\n",
    "        else:\n",
    "            unique_check.remove(group)\n",
    "print(unique_check)"
   ]
  },
  {
   "cell_type": "code",
   "execution_count": null,
   "metadata": {},
   "outputs": [],
   "source": []
  },
  {
   "cell_type": "code",
   "execution_count": 147,
   "metadata": {},
   "outputs": [
    {
     "name": "stdout",
     "output_type": "stream",
     "text": [
      "[(0, 1, 8, 9), (6, 7, 14, 15)]\n",
      "['-00-', '-11-']\n"
     ]
    }
   ],
   "source": [
    "keys_unique_groups = []\n",
    "vals_unique_groups = []\n",
    "for key in next_minterm_table2:\n",
    "    if any(group in unique_check for group in key):\n",
    "        keys_unique_groups.append(key)\n",
    "        vals_unique_groups.append(next_minterm_table2[key])\n",
    "print(keys_unique_groups)\n",
    "print(vals_unique_groups)"
   ]
  },
  {
   "cell_type": "code",
   "execution_count": 150,
   "metadata": {},
   "outputs": [],
   "source": [
    "results = []\n",
    "for minterms, bits in next_minterm_table2.items():\n",
    "    final_result = ''\n",
    "    if minterms not in keys_unique_groups:\n",
    "        for unique_key in keys_unique_groups:\n",
    "            final_result += next_minterm_table2[unique_key] + '+'\n",
    "        final_result += bits\n",
    "        results.append(final_result)"
   ]
  },
  {
   "cell_type": "code",
   "execution_count": 151,
   "metadata": {},
   "outputs": [
    {
     "name": "stdout",
     "output_type": "stream",
     "text": [
      "['-00-+-11-+00--', '-00-+-11-+0-1-']\n"
     ]
    }
   ],
   "source": [
    "print(results)"
   ]
  }
 ],
 "metadata": {
  "kernelspec": {
   "display_name": "yolov5",
   "language": "python",
   "name": "python3"
  },
  "language_info": {
   "codemirror_mode": {
    "name": "ipython",
    "version": 3
   },
   "file_extension": ".py",
   "mimetype": "text/x-python",
   "name": "python",
   "nbconvert_exporter": "python",
   "pygments_lexer": "ipython3",
   "version": "3.9.18"
  }
 },
 "nbformat": 4,
 "nbformat_minor": 2
}
