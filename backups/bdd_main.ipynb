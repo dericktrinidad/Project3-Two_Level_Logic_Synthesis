{
 "cells": [
  {
   "cell_type": "code",
   "execution_count": 1,
   "metadata": {},
   "outputs": [],
   "source": [
    "from utils.BDD_tree import bdd"
   ]
  },
  {
   "cell_type": "code",
   "execution_count": 2,
   "metadata": {},
   "outputs": [
    {
     "name": "stdout",
     "output_type": "stream",
     "text": [
      "Initial Minterms: \n",
      "[[0, 0, 0, 0], [0, 0, 0, 1], [0, 0, 1, 0], [0, 0, 1, 1], [0, 1, 1, 0], [0, 1, 1, 1], [1, 0, 0, 0], [1, 0, 0, 1], [1, 1, 1, 0], [1, 1, 1, 1]]\n",
      "max variable count: \n",
      "0\n",
      "left minterms: \n",
      " [[None, 0, 0, 0], [None, 0, 0, 1], [None, 1, 1, 0], [None, 1, 1, 1]]\n",
      "Right Minterms: \n",
      " [[None, 0, 0, 0], [None, 0, 0, 1], [None, 0, 1, 0], [None, 0, 1, 1], [None, 1, 1, 0], [None, 1, 1, 1]]\n",
      "max variable count: \n",
      "1\n",
      "left minterms: \n",
      " [[None, None, 1, 0], [None, None, 1, 1]]\n",
      "Right Minterms: \n",
      " [[None, None, 0, 0], [None, None, 0, 1]]\n",
      "max variable count: \n",
      "2\n",
      "left minterms: \n",
      " [[None, None, None, 0], [None, None, None, 1]]\n",
      "Right Minterms: \n",
      " []\n",
      "max variable count: \n",
      "2\n",
      "left minterms: \n",
      " []\n",
      "Right Minterms: \n",
      " [[None, None, None, 0], [None, None, None, 1]]\n",
      "max variable count: \n",
      "1\n",
      "left minterms: \n",
      " [[None, None, 1, 0], [None, None, 1, 1]]\n",
      "Right Minterms: \n",
      " [[None, None, 0, 0], [None, None, 0, 1], [None, None, 1, 0], [None, None, 1, 1]]\n",
      "max variable count: \n",
      "2\n",
      "left minterms: \n",
      " [[None, None, None, 0], [None, None, None, 1]]\n",
      "Right Minterms: \n",
      " []\n",
      "max variable count: \n",
      "2\n",
      "left minterms: \n",
      " [[None, None, None, 0], [None, None, None, 1]]\n",
      "Right Minterms: \n",
      " [[None, None, None, 0], [None, None, None, 1]]\n",
      "[[[None, None, None, 0], [None, None, None, 1]], [], [], [[None, None, None, 0], [None, None, None, 1]], [[None, None, None, 0], [None, None, None, 1]], [], [[None, None, None, 0], [None, None, None, 1]], [[None, None, None, 0], [None, None, None, 1]]]\n"
     ]
    }
   ],
   "source": [
    "sum_of_minterms = [0, 1, 2, 3, 6, 7, 8, 9, 14, 15]\n",
    "bdd_test = bdd(sum_of_minterms)"
   ]
  },
  {
   "cell_type": "code",
   "execution_count": 21,
   "metadata": {},
   "outputs": [
    {
     "name": "stdout",
     "output_type": "stream",
     "text": [
      "[[None, None, None, 0], [None, None, None, 1]]\n",
      "[None, None, 0, None]\n"
     ]
    }
   ],
   "source": [
    "curr_leaf_node = bdd_test.leafNodes[0] \n",
    "curr_minterms = curr_leaf_node.minterms\n",
    "print(curr_minterms)\n",
    "factored_minterm = curr_leaf_node.factored_minterm\n",
    "print(factored_minterm)"
   ]
  },
  {
   "cell_type": "code",
   "execution_count": 24,
   "metadata": {},
   "outputs": [],
   "source": [
    "curr_minterms.append(factored_minterm)"
   ]
  },
  {
   "cell_type": "code",
   "execution_count": 25,
   "metadata": {},
   "outputs": [],
   "source": [
    "def evaluate_minterms(minterms):\n",
    "    if not minterms:\n",
    "        return []\n",
    "\n",
    "    num_vars = len(minterms[0])\n",
    "    result = [None] * num_vars  # Start with an empty result\n",
    "    results = []\n",
    "\n",
    "    for minterm in minterms:\n",
    "        new_result = result[:]  # Create a copy of the current result for modification\n",
    "        for idx in range(num_vars):\n",
    "            v1, v2 = result[idx], minterm[idx]\n",
    "            if v1 is not None and v2 is not None:\n",
    "                # If both are not None and different, set to 1 (True)\n",
    "                if v1 != v2:\n",
    "                    new_result[idx] = 1\n",
    "                else:\n",
    "                    new_result[idx] = v1  # They are the same, keep the value\n",
    "            elif v1 is not None or v2 is not None:\n",
    "                # Assign the non-None value to the result\n",
    "                new_result[idx] = v1 if v1 is not None else v2\n",
    "            # If both are None, result stays None\n",
    "\n",
    "        result = new_result  # Update the result for next iteration\n",
    "\n",
    "    # Filter out None values and keep only significant results\n",
    "    final_result = [x for x in result if x is not None]\n",
    "\n",
    "    results.append(final_result)\n",
    "    return results"
   ]
  },
  {
   "cell_type": "code",
   "execution_count": 27,
   "metadata": {},
   "outputs": [
    {
     "data": {
      "text/plain": [
       "[]"
      ]
     },
     "execution_count": 27,
     "metadata": {},
     "output_type": "execute_result"
    }
   ],
   "source": [
    "evaluate_minterms(test)"
   ]
  },
  {
   "cell_type": "code",
   "execution_count": 16,
   "metadata": {},
   "outputs": [],
   "source": [
    "\n",
    "for idx, t1,t2 in enumerate(test):\n",
    "    print(idx)\n",
    "    print(t1,t2)"
   ]
  },
  {
   "cell_type": "code",
   "execution_count": null,
   "metadata": {},
   "outputs": [],
   "source": []
  }
 ],
 "metadata": {
  "kernelspec": {
   "display_name": "yolov5",
   "language": "python",
   "name": "python3"
  },
  "language_info": {
   "codemirror_mode": {
    "name": "ipython",
    "version": 3
   },
   "file_extension": ".py",
   "mimetype": "text/x-python",
   "name": "python",
   "nbconvert_exporter": "python",
   "pygments_lexer": "ipython3",
   "version": "3.9.18"
  }
 },
 "nbformat": 4,
 "nbformat_minor": 2
}
